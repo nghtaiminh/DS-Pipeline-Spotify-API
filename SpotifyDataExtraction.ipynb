{
 "cells": [
  {
   "cell_type": "markdown",
   "id": "improved-gauge",
   "metadata": {},
   "source": [
    "# Spotify Data Extraction\n",
    "\n",
    "This notebook is used to extract my listening activitys and songs data from Spotify API and perform \n",
    "\n",
    "## Spotify API Access\n",
    "To fetch data from Spotify, you'll need to go to https://developer.spotify.com/dashboard/login and create Spotify Developer and create an application.\n",
    "\n",
    "In the application, there are some identifiers you'll need for an OAuth flow:\n",
    "\n",
    "1. Under **Show Client Secret**:\n",
    " - Client ID\n",
    " - Client Secret\n",
    "\n",
    "2. In **Edit Settings**:\n",
    " - Redirect URIs (You can add http://localhost:8888/callback if you run on localhost)\n",
    " \n",
    " \n",
    "*Note that you will need an ordinary Spotify account to login, create an app, and get the credentials"
   ]
  },
  {
   "cell_type": "code",
   "execution_count": 100,
   "id": "european-language",
   "metadata": {},
   "outputs": [
    {
     "data": {
      "text/plain": [
       "True"
      ]
     },
     "execution_count": 100,
     "metadata": {},
     "output_type": "execute_result"
    }
   ],
   "source": [
    "import os\n",
    "from dotenv import load_dotenv, find_dotenv\n",
    "\n",
    "import pandas as pd\n",
    "import numpy as np\n",
    "import datetime\n",
    "# Import spotify wrapper\n",
    "import spotipy\n",
    "from spotipy.oauth2 import SpotifyOAuth\n",
    "from sqlalchemy import create_engine\n",
    "\n",
    "load_dotenv(find_dotenv())"
   ]
  },
  {
   "cell_type": "code",
   "execution_count": 101,
   "id": "split-prediction",
   "metadata": {},
   "outputs": [],
   "source": [
    "# Insert your Spotify username and credentials rom Spotify Developer\n",
    "SPOTIFY_CLIENT_ID = os.environ['SPOTIFY_CLIENT_ID']\n",
    "SPOTIFY_CLIENT_SECRET = os.environ['SPOTIFY_CLIENT_SECRET']\n",
    "REDIRECT_URL = os.environ['SPOTIFY_REDIRECT_URL']\n",
    "\n",
    "# Inser your PostgresSQL database configuration\n",
    "HOST=os.environ['DB_HOST']\n",
    "DATABASE=os.environ['DB_NAME']\n",
    "USER=os.environ['DB_USERNAME']\n",
    "PASSWORD=os.environ['DB_PASSWORD']"
   ]
  },
  {
   "cell_type": "code",
   "execution_count": 102,
   "id": "ranging-david",
   "metadata": {},
   "outputs": [],
   "source": [
    "# Create a Client Authorization flow and get the token\n",
    "sp = spotipy.Spotify(auth_manager=SpotifyOAuth(\n",
    "        client_id=SPOTIFY_CLIENT_ID,\n",
    "        client_secret=SPOTIFY_CLIENT_SECRET,\n",
    "        redirect_uri=REDIRECT_URL,\n",
    "        scope=\"user-read-recently-played\"\n",
    "    ))"
   ]
  },
  {
   "cell_type": "markdown",
   "id": "improving-flash",
   "metadata": {},
   "source": [
    "## Perform extraction and transformation for each table\n"
   ]
  },
  {
   "cell_type": "markdown",
   "id": "prospective-pavilion",
   "metadata": {},
   "source": [
    "### Played_song Table \n",
    "The [endpoint](https://developer.spotify.com/documentation/web-api/reference/#/operations/get-recently-played) usesd for get the recently played songs. This endpoint only return 50 recent tracks only\n"
   ]
  },
  {
   "cell_type": "code",
   "execution_count": 103,
   "id": "revised-house",
   "metadata": {},
   "outputs": [
    {
     "data": {
      "text/html": [
       "<div>\n",
       "<style scoped>\n",
       "    .dataframe tbody tr th:only-of-type {\n",
       "        vertical-align: middle;\n",
       "    }\n",
       "\n",
       "    .dataframe tbody tr th {\n",
       "        vertical-align: top;\n",
       "    }\n",
       "\n",
       "    .dataframe thead th {\n",
       "        text-align: right;\n",
       "    }\n",
       "</style>\n",
       "<table border=\"1\" class=\"dataframe\">\n",
       "  <thead>\n",
       "    <tr style=\"text-align: right;\">\n",
       "      <th></th>\n",
       "      <th>song_id</th>\n",
       "      <th>album_id</th>\n",
       "      <th>played_at</th>\n",
       "    </tr>\n",
       "  </thead>\n",
       "  <tbody>\n",
       "    <tr>\n",
       "      <th>0</th>\n",
       "      <td>7iwunjxHhRFfqKder6oDWK</td>\n",
       "      <td>2CDUJGW1bXZFX36DOvMeib</td>\n",
       "      <td>2022-06-17T07:31:19.783Z</td>\n",
       "    </tr>\n",
       "    <tr>\n",
       "      <th>1</th>\n",
       "      <td>02VBYrHfVwfEWXk5DXyf0T</td>\n",
       "      <td>1YgekJJTEueWDaMr7BYqPk</td>\n",
       "      <td>2022-06-17T06:35:06.070Z</td>\n",
       "    </tr>\n",
       "    <tr>\n",
       "      <th>2</th>\n",
       "      <td>1H7OG9HvaA6ykBRBxADJZi</td>\n",
       "      <td>0AK8S7tGGL6Cj4ED2Nq2KQ</td>\n",
       "      <td>2022-06-17T06:31:03.411Z</td>\n",
       "    </tr>\n",
       "    <tr>\n",
       "      <th>3</th>\n",
       "      <td>58wyJLv6yH1La9NIZPl3ne</td>\n",
       "      <td>0MGcjBIFcL2qaCrgGjIGFb</td>\n",
       "      <td>2022-06-17T06:27:17.209Z</td>\n",
       "    </tr>\n",
       "    <tr>\n",
       "      <th>4</th>\n",
       "      <td>6Zg0jDwwyywj8nFz8FJoRS</td>\n",
       "      <td>5ynDNXm908XzgoHBKEkNDI</td>\n",
       "      <td>2022-06-17T06:22:29.305Z</td>\n",
       "    </tr>\n",
       "  </tbody>\n",
       "</table>\n",
       "</div>"
      ],
      "text/plain": [
       "                  song_id                album_id                 played_at\n",
       "0  7iwunjxHhRFfqKder6oDWK  2CDUJGW1bXZFX36DOvMeib  2022-06-17T07:31:19.783Z\n",
       "1  02VBYrHfVwfEWXk5DXyf0T  1YgekJJTEueWDaMr7BYqPk  2022-06-17T06:35:06.070Z\n",
       "2  1H7OG9HvaA6ykBRBxADJZi  0AK8S7tGGL6Cj4ED2Nq2KQ  2022-06-17T06:31:03.411Z\n",
       "3  58wyJLv6yH1La9NIZPl3ne  0MGcjBIFcL2qaCrgGjIGFb  2022-06-17T06:27:17.209Z\n",
       "4  6Zg0jDwwyywj8nFz8FJoRS  5ynDNXm908XzgoHBKEkNDI  2022-06-17T06:22:29.305Z"
      ]
     },
     "execution_count": 103,
     "metadata": {},
     "output_type": "execute_result"
    }
   ],
   "source": [
    "today = datetime.datetime.now()\n",
    "ndays_ago = today - datetime.timedelta(days=30)\n",
    "ndays_ago = int(ndays_ago.timestamp()) * 1000\n",
    "\n",
    "# Structure the dictionary to store the data\n",
    "songs_dict = {\n",
    "    \"song_id\": [],\n",
    "    \"album_id\": [],\n",
    "    \"played_at\": [],\n",
    "}\n",
    "\n",
    "# Get user's recently-played-tracks data\n",
    "recently_played_songs = sp.current_user_recently_played(after=ndays_ago)\n",
    "\n",
    "if len(recently_played_songs['items']) != 0:\n",
    "    for song in recently_played_songs['items']:\n",
    "        songs_dict['song_id'].append(song[\"track\"]['id'])\n",
    "        songs_dict['album_id'].append(song[\"track\"][\"album\"][\"id\"])\n",
    "        songs_dict['played_at'].append(song[\"played_at\"])\n",
    "        \n",
    "else:\n",
    "    print(\"No records of listening\")\n",
    "    \n",
    "played_songs_df = pd.DataFrame(songs_dict)\n",
    "played_songs_df.head()"
   ]
  },
  {
   "cell_type": "code",
   "execution_count": 104,
   "id": "lesser-sustainability",
   "metadata": {},
   "outputs": [
    {
     "data": {
      "text/html": [
       "<div>\n",
       "<style scoped>\n",
       "    .dataframe tbody tr th:only-of-type {\n",
       "        vertical-align: middle;\n",
       "    }\n",
       "\n",
       "    .dataframe tbody tr th {\n",
       "        vertical-align: top;\n",
       "    }\n",
       "\n",
       "    .dataframe thead th {\n",
       "        text-align: right;\n",
       "    }\n",
       "</style>\n",
       "<table border=\"1\" class=\"dataframe\">\n",
       "  <thead>\n",
       "    <tr style=\"text-align: right;\">\n",
       "      <th></th>\n",
       "      <th>played_song_id</th>\n",
       "      <th>song_id</th>\n",
       "      <th>album_id</th>\n",
       "      <th>played_at</th>\n",
       "    </tr>\n",
       "  </thead>\n",
       "  <tbody>\n",
       "    <tr>\n",
       "      <th>0</th>\n",
       "      <td>1655433079783</td>\n",
       "      <td>7iwunjxHhRFfqKder6oDWK</td>\n",
       "      <td>2CDUJGW1bXZFX36DOvMeib</td>\n",
       "      <td>06-17-2022 02:31:19</td>\n",
       "    </tr>\n",
       "    <tr>\n",
       "      <th>1</th>\n",
       "      <td>1655429706070</td>\n",
       "      <td>02VBYrHfVwfEWXk5DXyf0T</td>\n",
       "      <td>1YgekJJTEueWDaMr7BYqPk</td>\n",
       "      <td>06-17-2022 01:35:06</td>\n",
       "    </tr>\n",
       "    <tr>\n",
       "      <th>2</th>\n",
       "      <td>1655429463411</td>\n",
       "      <td>1H7OG9HvaA6ykBRBxADJZi</td>\n",
       "      <td>0AK8S7tGGL6Cj4ED2Nq2KQ</td>\n",
       "      <td>06-17-2022 01:31:03</td>\n",
       "    </tr>\n",
       "    <tr>\n",
       "      <th>3</th>\n",
       "      <td>1655429237209</td>\n",
       "      <td>58wyJLv6yH1La9NIZPl3ne</td>\n",
       "      <td>0MGcjBIFcL2qaCrgGjIGFb</td>\n",
       "      <td>06-17-2022 01:27:17</td>\n",
       "    </tr>\n",
       "    <tr>\n",
       "      <th>4</th>\n",
       "      <td>1655428949305</td>\n",
       "      <td>6Zg0jDwwyywj8nFz8FJoRS</td>\n",
       "      <td>5ynDNXm908XzgoHBKEkNDI</td>\n",
       "      <td>06-17-2022 01:22:29</td>\n",
       "    </tr>\n",
       "  </tbody>\n",
       "</table>\n",
       "</div>"
      ],
      "text/plain": [
       "   played_song_id                 song_id                album_id  \\\n",
       "0   1655433079783  7iwunjxHhRFfqKder6oDWK  2CDUJGW1bXZFX36DOvMeib   \n",
       "1   1655429706070  02VBYrHfVwfEWXk5DXyf0T  1YgekJJTEueWDaMr7BYqPk   \n",
       "2   1655429463411  1H7OG9HvaA6ykBRBxADJZi  0AK8S7tGGL6Cj4ED2Nq2KQ   \n",
       "3   1655429237209  58wyJLv6yH1La9NIZPl3ne  0MGcjBIFcL2qaCrgGjIGFb   \n",
       "4   1655428949305  6Zg0jDwwyywj8nFz8FJoRS  5ynDNXm908XzgoHBKEkNDI   \n",
       "\n",
       "             played_at  \n",
       "0  06-17-2022 02:31:19  \n",
       "1  06-17-2022 01:35:06  \n",
       "2  06-17-2022 01:31:03  \n",
       "3  06-17-2022 01:27:17  \n",
       "4  06-17-2022 01:22:29  "
      ]
     },
     "execution_count": 104,
     "metadata": {},
     "output_type": "execute_result"
    }
   ],
   "source": [
    "# Check missing values\n",
    "if played_songs_df.isnull().values.any():\n",
    "    raise Exception(\"Null value found in played songs data\")\n",
    "    \n",
    "timestamp_df = pd.to_datetime(played_songs_df['played_at'])\n",
    "# Change to GMT+7:00 timezone\n",
    "timestamp_df = timestamp_df + datetime.timedelta(hours=-5)\n",
    "#Set UNIX code for played_at as primary key, since only one song can played at a time\n",
    "played_songs_table_pk = timestamp_df.astype(np.int64) // 10**6\n",
    "# Format the timestamp\n",
    "timestamp_df = timestamp_df.dt.strftime(\"%m-%d-%Y %H:%M:%S\")\n",
    "played_songs_df['played_at'] = timestamp_df\n",
    "played_songs_df.insert(0, \"played_song_id\", played_songs_table_pk)\n",
    "\n",
    "played_songs_df.head()"
   ]
  },
  {
   "cell_type": "markdown",
   "id": "aba1e629",
   "metadata": {},
   "source": [
    "## Album Table\n",
    "\n",
    "The [get several albums endpoint](https://developer.spotify.com/documentation/web-api/reference/#/operations/get-multiple-albums) is used to retrieve the information about albums.\n",
    "The limitation is that the endpoint has a maximum of 20 items, to solve this limit, using a nested loop to call the API with 20 IDs submitted each time"
   ]
  },
  {
   "cell_type": "code",
   "execution_count": 105,
   "id": "scientific-toyota",
   "metadata": {},
   "outputs": [],
   "source": [
    "# Structure the dictionary to store the data\n",
    "albums_dict = {\n",
    "    'album_id': [],\n",
    "    'album_name': [],\n",
    "    'album_type': [],\n",
    "    'popularity': [],\n",
    "    'release_year': [],\n",
    "    'external_url': []\n",
    "}\n",
    "\n",
    "album_ids_list = played_songs_df['album_id'].unique().tolist()\n",
    "\n",
    "for i in range(0, len(album_ids_list), 20):\n",
    "    albums_data = sp.albums(album_ids_list[i: i+20])\n",
    "    \n",
    "    for album in albums_data['albums']:\n",
    "        albums_dict['album_id'].append(album['id'])\n",
    "        albums_dict['album_name'].append(album['name'])\n",
    "        albums_dict['album_type'].append(album['album_type'])\n",
    "        albums_dict['popularity'].append(album['popularity'])\n",
    "        albums_dict['release_year'].append(album['release_date'])\n",
    "        albums_dict['external_url'].append(album['external_urls']['spotify'])\n",
    "\n",
    "albums_df = pd.DataFrame(albums_dict)"
   ]
  },
  {
   "cell_type": "code",
   "execution_count": 106,
   "id": "57689b4d",
   "metadata": {},
   "outputs": [
    {
     "data": {
      "text/html": [
       "<div>\n",
       "<style scoped>\n",
       "    .dataframe tbody tr th:only-of-type {\n",
       "        vertical-align: middle;\n",
       "    }\n",
       "\n",
       "    .dataframe tbody tr th {\n",
       "        vertical-align: top;\n",
       "    }\n",
       "\n",
       "    .dataframe thead th {\n",
       "        text-align: right;\n",
       "    }\n",
       "</style>\n",
       "<table border=\"1\" class=\"dataframe\">\n",
       "  <thead>\n",
       "    <tr style=\"text-align: right;\">\n",
       "      <th></th>\n",
       "      <th>album_id</th>\n",
       "      <th>album_name</th>\n",
       "      <th>album_type</th>\n",
       "      <th>popularity</th>\n",
       "      <th>release_year</th>\n",
       "      <th>external_url</th>\n",
       "    </tr>\n",
       "  </thead>\n",
       "  <tbody>\n",
       "    <tr>\n",
       "      <th>0</th>\n",
       "      <td>2CDUJGW1bXZFX36DOvMeib</td>\n",
       "      <td>Chẳng làm gì hết</td>\n",
       "      <td>single</td>\n",
       "      <td>8</td>\n",
       "      <td>2021</td>\n",
       "      <td>https://open.spotify.com/album/2CDUJGW1bXZFX36...</td>\n",
       "    </tr>\n",
       "    <tr>\n",
       "      <th>1</th>\n",
       "      <td>1YgekJJTEueWDaMr7BYqPk</td>\n",
       "      <td>An Evening With Silk Sonic</td>\n",
       "      <td>album</td>\n",
       "      <td>75</td>\n",
       "      <td>2021</td>\n",
       "      <td>https://open.spotify.com/album/1YgekJJTEueWDaM...</td>\n",
       "    </tr>\n",
       "    <tr>\n",
       "      <th>2</th>\n",
       "      <td>0AK8S7tGGL6Cj4ED2Nq2KQ</td>\n",
       "      <td>Comeback</td>\n",
       "      <td>single</td>\n",
       "      <td>11</td>\n",
       "      <td>2020</td>\n",
       "      <td>https://open.spotify.com/album/0AK8S7tGGL6Cj4E...</td>\n",
       "    </tr>\n",
       "    <tr>\n",
       "      <th>3</th>\n",
       "      <td>0MGcjBIFcL2qaCrgGjIGFb</td>\n",
       "      <td>Can We Kiss Forever?</td>\n",
       "      <td>single</td>\n",
       "      <td>61</td>\n",
       "      <td>2018</td>\n",
       "      <td>https://open.spotify.com/album/0MGcjBIFcL2qaCr...</td>\n",
       "    </tr>\n",
       "    <tr>\n",
       "      <th>4</th>\n",
       "      <td>5ynDNXm908XzgoHBKEkNDI</td>\n",
       "      <td>Quá Lâu</td>\n",
       "      <td>single</td>\n",
       "      <td>29</td>\n",
       "      <td>2019</td>\n",
       "      <td>https://open.spotify.com/album/5ynDNXm908XzgoH...</td>\n",
       "    </tr>\n",
       "  </tbody>\n",
       "</table>\n",
       "</div>"
      ],
      "text/plain": [
       "                 album_id                  album_name album_type  popularity  \\\n",
       "0  2CDUJGW1bXZFX36DOvMeib            Chẳng làm gì hết     single           8   \n",
       "1  1YgekJJTEueWDaMr7BYqPk  An Evening With Silk Sonic      album          75   \n",
       "2  0AK8S7tGGL6Cj4ED2Nq2KQ                    Comeback     single          11   \n",
       "3  0MGcjBIFcL2qaCrgGjIGFb        Can We Kiss Forever?     single          61   \n",
       "4  5ynDNXm908XzgoHBKEkNDI                     Quá Lâu     single          29   \n",
       "\n",
       "   release_year                                       external_url  \n",
       "0          2021  https://open.spotify.com/album/2CDUJGW1bXZFX36...  \n",
       "1          2021  https://open.spotify.com/album/1YgekJJTEueWDaM...  \n",
       "2          2020  https://open.spotify.com/album/0AK8S7tGGL6Cj4E...  \n",
       "3          2018  https://open.spotify.com/album/0MGcjBIFcL2qaCr...  \n",
       "4          2019  https://open.spotify.com/album/5ynDNXm908XzgoH...  "
      ]
     },
     "execution_count": 106,
     "metadata": {},
     "output_type": "execute_result"
    }
   ],
   "source": [
    "# Trasform the date to year\n",
    "albums_df['release_year'] = pd.to_datetime(albums_df['release_year'])\n",
    "albums_df['release_year'] = albums_df['release_year'].dt.year\n",
    "albums_df.head()"
   ]
  },
  {
   "cell_type": "markdown",
   "id": "desirable-solomon",
   "metadata": {},
   "source": [
    "### Song Table - Dimension Table\n",
    "\n",
    "This [endpoint](https://developer.spotify.com/documentation/web-api/reference/#/operations/get-several-tracks) is used to extract song information, the limit for this endpoint is 50 IDs"
   ]
  },
  {
   "cell_type": "code",
   "execution_count": 107,
   "id": "warming-michigan",
   "metadata": {},
   "outputs": [],
   "source": [
    "# Get list of song ID without duplicate \n",
    "song_ids_list = played_songs_df['song_id'].unique().tolist()"
   ]
  },
  {
   "cell_type": "code",
   "execution_count": 108,
   "id": "selected-montana",
   "metadata": {},
   "outputs": [],
   "source": [
    "# Structure the dictionary to store the data\n",
    "songs_dict = {\n",
    "    'song_id': [],\n",
    "    'song_name' : [],\n",
    "    'album_id': [],\n",
    "    'duration_ms': [],\n",
    "    'popularity': [],\n",
    "    'external_url': []\n",
    "}\n",
    "\n",
    "for i in range(0, len(song_ids_list), 50):\n",
    "    # Get multiple songs data\n",
    "    songs_data = sp.tracks(tracks=song_ids_list[i:i+50], market=None)\n",
    "    \n",
    "    for song in songs_data['tracks']:\n",
    "        songs_dict['song_id'].append(song['id'])\n",
    "        songs_dict['song_name'].append(song['name'])\n",
    "        songs_dict['album_id'].append(song['album']['id'])\n",
    "        songs_dict['popularity'].append(song['popularity'])\n",
    "        songs_dict['duration_ms'].append(song['duration_ms'])\n",
    "        songs_dict['external_url'].append(song['external_urls']['spotify'])\n",
    "\n",
    "songs_df = pd.DataFrame(songs_dict)"
   ]
  },
  {
   "cell_type": "code",
   "execution_count": 109,
   "id": "executive-landing",
   "metadata": {},
   "outputs": [],
   "source": [
    "# Check missing values\n",
    "if songs_df.isnull().values.any():\n",
    "    raise Exception(\"Null value found in songs data\")"
   ]
  },
  {
   "cell_type": "code",
   "execution_count": 110,
   "id": "bridal-bench",
   "metadata": {},
   "outputs": [
    {
     "data": {
      "text/html": [
       "<div>\n",
       "<style scoped>\n",
       "    .dataframe tbody tr th:only-of-type {\n",
       "        vertical-align: middle;\n",
       "    }\n",
       "\n",
       "    .dataframe tbody tr th {\n",
       "        vertical-align: top;\n",
       "    }\n",
       "\n",
       "    .dataframe thead th {\n",
       "        text-align: right;\n",
       "    }\n",
       "</style>\n",
       "<table border=\"1\" class=\"dataframe\">\n",
       "  <thead>\n",
       "    <tr style=\"text-align: right;\">\n",
       "      <th></th>\n",
       "      <th>song_id</th>\n",
       "      <th>song_name</th>\n",
       "      <th>album_id</th>\n",
       "      <th>duration_ms</th>\n",
       "      <th>popularity</th>\n",
       "      <th>external_url</th>\n",
       "    </tr>\n",
       "  </thead>\n",
       "  <tbody>\n",
       "    <tr>\n",
       "      <th>0</th>\n",
       "      <td>7iwunjxHhRFfqKder6oDWK</td>\n",
       "      <td>Chẳng làm gì hết</td>\n",
       "      <td>2CDUJGW1bXZFX36DOvMeib</td>\n",
       "      <td>248095</td>\n",
       "      <td>21</td>\n",
       "      <td>https://open.spotify.com/track/7iwunjxHhRFfqKd...</td>\n",
       "    </tr>\n",
       "    <tr>\n",
       "      <th>1</th>\n",
       "      <td>02VBYrHfVwfEWXk5DXyf0T</td>\n",
       "      <td>Leave The Door Open</td>\n",
       "      <td>1YgekJJTEueWDaMr7BYqPk</td>\n",
       "      <td>242096</td>\n",
       "      <td>85</td>\n",
       "      <td>https://open.spotify.com/track/02VBYrHfVwfEWXk...</td>\n",
       "    </tr>\n",
       "    <tr>\n",
       "      <th>2</th>\n",
       "      <td>1H7OG9HvaA6ykBRBxADJZi</td>\n",
       "      <td>Comeback</td>\n",
       "      <td>0AK8S7tGGL6Cj4ED2Nq2KQ</td>\n",
       "      <td>218630</td>\n",
       "      <td>25</td>\n",
       "      <td>https://open.spotify.com/track/1H7OG9HvaA6ykBR...</td>\n",
       "    </tr>\n",
       "    <tr>\n",
       "      <th>3</th>\n",
       "      <td>58wyJLv6yH1La9NIZPl3ne</td>\n",
       "      <td>Can We Kiss Forever?</td>\n",
       "      <td>0MGcjBIFcL2qaCrgGjIGFb</td>\n",
       "      <td>187931</td>\n",
       "      <td>77</td>\n",
       "      <td>https://open.spotify.com/track/58wyJLv6yH1La9N...</td>\n",
       "    </tr>\n",
       "    <tr>\n",
       "      <th>4</th>\n",
       "      <td>6Zg0jDwwyywj8nFz8FJoRS</td>\n",
       "      <td>Quá Lâu</td>\n",
       "      <td>5ynDNXm908XzgoHBKEkNDI</td>\n",
       "      <td>177169</td>\n",
       "      <td>44</td>\n",
       "      <td>https://open.spotify.com/track/6Zg0jDwwyywj8nF...</td>\n",
       "    </tr>\n",
       "  </tbody>\n",
       "</table>\n",
       "</div>"
      ],
      "text/plain": [
       "                  song_id             song_name                album_id  \\\n",
       "0  7iwunjxHhRFfqKder6oDWK      Chẳng làm gì hết  2CDUJGW1bXZFX36DOvMeib   \n",
       "1  02VBYrHfVwfEWXk5DXyf0T   Leave The Door Open  1YgekJJTEueWDaMr7BYqPk   \n",
       "2  1H7OG9HvaA6ykBRBxADJZi              Comeback  0AK8S7tGGL6Cj4ED2Nq2KQ   \n",
       "3  58wyJLv6yH1La9NIZPl3ne  Can We Kiss Forever?  0MGcjBIFcL2qaCrgGjIGFb   \n",
       "4  6Zg0jDwwyywj8nFz8FJoRS               Quá Lâu  5ynDNXm908XzgoHBKEkNDI   \n",
       "\n",
       "   duration_ms  popularity                                       external_url  \n",
       "0       248095          21  https://open.spotify.com/track/7iwunjxHhRFfqKd...  \n",
       "1       242096          85  https://open.spotify.com/track/02VBYrHfVwfEWXk...  \n",
       "2       218630          25  https://open.spotify.com/track/1H7OG9HvaA6ykBR...  \n",
       "3       187931          77  https://open.spotify.com/track/58wyJLv6yH1La9N...  \n",
       "4       177169          44  https://open.spotify.com/track/6Zg0jDwwyywj8nF...  "
      ]
     },
     "execution_count": 110,
     "metadata": {},
     "output_type": "execute_result"
    }
   ],
   "source": [
    "songs_df.head()"
   ]
  },
  {
   "cell_type": "markdown",
   "id": "ab00f645",
   "metadata": {},
   "source": [
    "### Song_Artists Table"
   ]
  },
  {
   "cell_type": "code",
   "execution_count": 111,
   "id": "4a48eaab",
   "metadata": {},
   "outputs": [
    {
     "data": {
      "text/html": [
       "<div>\n",
       "<style scoped>\n",
       "    .dataframe tbody tr th:only-of-type {\n",
       "        vertical-align: middle;\n",
       "    }\n",
       "\n",
       "    .dataframe tbody tr th {\n",
       "        vertical-align: top;\n",
       "    }\n",
       "\n",
       "    .dataframe thead th {\n",
       "        text-align: right;\n",
       "    }\n",
       "</style>\n",
       "<table border=\"1\" class=\"dataframe\">\n",
       "  <thead>\n",
       "    <tr style=\"text-align: right;\">\n",
       "      <th></th>\n",
       "      <th>song_id</th>\n",
       "      <th>artist_id</th>\n",
       "    </tr>\n",
       "  </thead>\n",
       "  <tbody>\n",
       "    <tr>\n",
       "      <th>0</th>\n",
       "      <td>7iwunjxHhRFfqKder6oDWK</td>\n",
       "      <td>0Hxo49G2Y9jzrRGqQeok1m</td>\n",
       "    </tr>\n",
       "    <tr>\n",
       "      <th>1</th>\n",
       "      <td>02VBYrHfVwfEWXk5DXyf0T</td>\n",
       "      <td>0du5cEVh5yTK9QJze8zA0C</td>\n",
       "    </tr>\n",
       "    <tr>\n",
       "      <th>2</th>\n",
       "      <td>02VBYrHfVwfEWXk5DXyf0T</td>\n",
       "      <td>3jK9MiCrA42lLAdMGUZpwa</td>\n",
       "    </tr>\n",
       "    <tr>\n",
       "      <th>3</th>\n",
       "      <td>02VBYrHfVwfEWXk5DXyf0T</td>\n",
       "      <td>6PvvGcCY2XtUcSRld1Wilr</td>\n",
       "    </tr>\n",
       "    <tr>\n",
       "      <th>4</th>\n",
       "      <td>1H7OG9HvaA6ykBRBxADJZi</td>\n",
       "      <td>61GRLAWKX8C8l7pLwqJgny</td>\n",
       "    </tr>\n",
       "    <tr>\n",
       "      <th>...</th>\n",
       "      <td>...</td>\n",
       "      <td>...</td>\n",
       "    </tr>\n",
       "    <tr>\n",
       "      <th>67</th>\n",
       "      <td>2XCkJN8DibL2PyXAmoDkc6</td>\n",
       "      <td>7185Q95lPFld0aoPqO6e0U</td>\n",
       "    </tr>\n",
       "    <tr>\n",
       "      <th>68</th>\n",
       "      <td>62YUdF3m6k3PtHen731G6j</td>\n",
       "      <td>7LWdcPFBFcRaamGjIJbPV7</td>\n",
       "    </tr>\n",
       "    <tr>\n",
       "      <th>69</th>\n",
       "      <td>62YUdF3m6k3PtHen731G6j</td>\n",
       "      <td>1EpXwbpQDflfGg6juJz89j</td>\n",
       "    </tr>\n",
       "    <tr>\n",
       "      <th>70</th>\n",
       "      <td>6pjtGdjPvJIzV9ADVPY568</td>\n",
       "      <td>6sPQwc6lix6K1Gv64v91Ml</td>\n",
       "    </tr>\n",
       "    <tr>\n",
       "      <th>71</th>\n",
       "      <td>63qXBwPTvCGaghzboI8b87</td>\n",
       "      <td>4kTancl0Qa8Y7J0QKKTCrz</td>\n",
       "    </tr>\n",
       "  </tbody>\n",
       "</table>\n",
       "<p>72 rows × 2 columns</p>\n",
       "</div>"
      ],
      "text/plain": [
       "                   song_id               artist_id\n",
       "0   7iwunjxHhRFfqKder6oDWK  0Hxo49G2Y9jzrRGqQeok1m\n",
       "1   02VBYrHfVwfEWXk5DXyf0T  0du5cEVh5yTK9QJze8zA0C\n",
       "2   02VBYrHfVwfEWXk5DXyf0T  3jK9MiCrA42lLAdMGUZpwa\n",
       "3   02VBYrHfVwfEWXk5DXyf0T  6PvvGcCY2XtUcSRld1Wilr\n",
       "4   1H7OG9HvaA6ykBRBxADJZi  61GRLAWKX8C8l7pLwqJgny\n",
       "..                     ...                     ...\n",
       "67  2XCkJN8DibL2PyXAmoDkc6  7185Q95lPFld0aoPqO6e0U\n",
       "68  62YUdF3m6k3PtHen731G6j  7LWdcPFBFcRaamGjIJbPV7\n",
       "69  62YUdF3m6k3PtHen731G6j  1EpXwbpQDflfGg6juJz89j\n",
       "70  6pjtGdjPvJIzV9ADVPY568  6sPQwc6lix6K1Gv64v91Ml\n",
       "71  63qXBwPTvCGaghzboI8b87  4kTancl0Qa8Y7J0QKKTCrz\n",
       "\n",
       "[72 rows x 2 columns]"
      ]
     },
     "execution_count": 111,
     "metadata": {},
     "output_type": "execute_result"
    }
   ],
   "source": [
    "# Structure the dictionary to store the data\n",
    "song_artists_dict = {\n",
    "    'song_id': [],\n",
    "    'artist_id': []\n",
    "}\n",
    "\n",
    "for song in songs_data['tracks']:\n",
    "    for artist in song['artists']:\n",
    "        song_artists_dict['song_id'].append(song['id'])\n",
    "        song_artists_dict['artist_id'].append(artist['id'])\n",
    "\n",
    "song_artists_df = pd.DataFrame(song_artists_dict)\n",
    "song_artists_df"
   ]
  },
  {
   "cell_type": "markdown",
   "id": "romantic-surfing",
   "metadata": {},
   "source": [
    "### Song_Feature \n",
    "\n",
    "This [endpoint](https://developer.spotify.com/documentation/web-api/reference/#/operations/get-several-audio-features) is used to extract the audio features for each song, the limit is 100 IDs per request"
   ]
  },
  {
   "cell_type": "code",
   "execution_count": 112,
   "id": "increasing-estimate",
   "metadata": {},
   "outputs": [],
   "source": [
    "# Get audio features data\n",
    "audio_features = sp.audio_features(tracks=song_ids_list)"
   ]
  },
  {
   "cell_type": "code",
   "execution_count": 113,
   "id": "pediatric-annual",
   "metadata": {},
   "outputs": [],
   "source": [
    "# Structure the dictionary to store the data\n",
    "feature_dict = {\n",
    "        \"song_id\": [],\n",
    "        \"danceability\": [],\n",
    "        \"energy\": [],\n",
    "        \"loudness\": [],\n",
    "        \"speechiness\": [],\n",
    "        \"acousticness\": [],\n",
    "        \"instrumentalness\": [],\n",
    "        \"liveness\": [],\n",
    "        \"valence\": [],\n",
    "        \"tempo\": [],\n",
    "}\n",
    "for i in range(0, len(song_ids_list), 100):\n",
    "    # Get audio features data\n",
    "    audio_features = sp.audio_features(tracks=song_ids_list[i:i+100])\n",
    "    \n",
    "    for song in audio_features:\n",
    "        if song != None:\n",
    "            feature_dict['song_id'].append(song['id'])\n",
    "            feature_dict['danceability'].append(song['danceability'])\n",
    "            feature_dict['energy'].append(song['energy'])\n",
    "            feature_dict['loudness'].append(song['loudness'])\n",
    "            feature_dict['speechiness'].append(song['speechiness'])\n",
    "            feature_dict['acousticness'].append(song['acousticness'])\n",
    "            feature_dict['instrumentalness'].append(song['instrumentalness'])\n",
    "            feature_dict['liveness'].append(song['liveness'])\n",
    "            feature_dict['valence'].append(song['valence'])\n",
    "            feature_dict['tempo'].append(song['tempo'])\n",
    "\n",
    "audio_features_df = pd.DataFrame(feature_dict)"
   ]
  },
  {
   "cell_type": "code",
   "execution_count": 114,
   "id": "structured-parallel",
   "metadata": {},
   "outputs": [],
   "source": [
    "# Check missing values\n",
    "if audio_features_df.isnull().values.any():\n",
    "    raise Exception(\"Null value found in song feature data\")"
   ]
  },
  {
   "cell_type": "code",
   "execution_count": 115,
   "id": "instrumental-appendix",
   "metadata": {},
   "outputs": [
    {
     "data": {
      "text/html": [
       "<div>\n",
       "<style scoped>\n",
       "    .dataframe tbody tr th:only-of-type {\n",
       "        vertical-align: middle;\n",
       "    }\n",
       "\n",
       "    .dataframe tbody tr th {\n",
       "        vertical-align: top;\n",
       "    }\n",
       "\n",
       "    .dataframe thead th {\n",
       "        text-align: right;\n",
       "    }\n",
       "</style>\n",
       "<table border=\"1\" class=\"dataframe\">\n",
       "  <thead>\n",
       "    <tr style=\"text-align: right;\">\n",
       "      <th></th>\n",
       "      <th>song_id</th>\n",
       "      <th>danceability</th>\n",
       "      <th>energy</th>\n",
       "      <th>loudness</th>\n",
       "      <th>speechiness</th>\n",
       "      <th>acousticness</th>\n",
       "      <th>instrumentalness</th>\n",
       "      <th>liveness</th>\n",
       "      <th>valence</th>\n",
       "      <th>tempo</th>\n",
       "    </tr>\n",
       "  </thead>\n",
       "  <tbody>\n",
       "    <tr>\n",
       "      <th>0</th>\n",
       "      <td>7iwunjxHhRFfqKder6oDWK</td>\n",
       "      <td>0.911</td>\n",
       "      <td>0.787</td>\n",
       "      <td>-4.178</td>\n",
       "      <td>0.0438</td>\n",
       "      <td>0.490</td>\n",
       "      <td>0.00002</td>\n",
       "      <td>0.1170</td>\n",
       "      <td>0.967</td>\n",
       "      <td>126.008</td>\n",
       "    </tr>\n",
       "    <tr>\n",
       "      <th>1</th>\n",
       "      <td>02VBYrHfVwfEWXk5DXyf0T</td>\n",
       "      <td>0.586</td>\n",
       "      <td>0.616</td>\n",
       "      <td>-7.964</td>\n",
       "      <td>0.0324</td>\n",
       "      <td>0.182</td>\n",
       "      <td>0.00000</td>\n",
       "      <td>0.0927</td>\n",
       "      <td>0.719</td>\n",
       "      <td>148.088</td>\n",
       "    </tr>\n",
       "    <tr>\n",
       "      <th>2</th>\n",
       "      <td>1H7OG9HvaA6ykBRBxADJZi</td>\n",
       "      <td>0.374</td>\n",
       "      <td>0.614</td>\n",
       "      <td>-7.639</td>\n",
       "      <td>0.0498</td>\n",
       "      <td>0.282</td>\n",
       "      <td>0.00000</td>\n",
       "      <td>0.1180</td>\n",
       "      <td>0.501</td>\n",
       "      <td>105.917</td>\n",
       "    </tr>\n",
       "    <tr>\n",
       "      <th>3</th>\n",
       "      <td>58wyJLv6yH1La9NIZPl3ne</td>\n",
       "      <td>0.522</td>\n",
       "      <td>0.128</td>\n",
       "      <td>-18.717</td>\n",
       "      <td>0.0357</td>\n",
       "      <td>0.894</td>\n",
       "      <td>0.02600</td>\n",
       "      <td>0.0941</td>\n",
       "      <td>0.124</td>\n",
       "      <td>109.986</td>\n",
       "    </tr>\n",
       "    <tr>\n",
       "      <th>4</th>\n",
       "      <td>6Zg0jDwwyywj8nFz8FJoRS</td>\n",
       "      <td>0.707</td>\n",
       "      <td>0.912</td>\n",
       "      <td>-4.061</td>\n",
       "      <td>0.0859</td>\n",
       "      <td>0.183</td>\n",
       "      <td>0.00000</td>\n",
       "      <td>0.1020</td>\n",
       "      <td>0.944</td>\n",
       "      <td>106.011</td>\n",
       "    </tr>\n",
       "  </tbody>\n",
       "</table>\n",
       "</div>"
      ],
      "text/plain": [
       "                  song_id  danceability  energy  loudness  speechiness  \\\n",
       "0  7iwunjxHhRFfqKder6oDWK         0.911   0.787    -4.178       0.0438   \n",
       "1  02VBYrHfVwfEWXk5DXyf0T         0.586   0.616    -7.964       0.0324   \n",
       "2  1H7OG9HvaA6ykBRBxADJZi         0.374   0.614    -7.639       0.0498   \n",
       "3  58wyJLv6yH1La9NIZPl3ne         0.522   0.128   -18.717       0.0357   \n",
       "4  6Zg0jDwwyywj8nFz8FJoRS         0.707   0.912    -4.061       0.0859   \n",
       "\n",
       "   acousticness  instrumentalness  liveness  valence    tempo  \n",
       "0         0.490           0.00002    0.1170    0.967  126.008  \n",
       "1         0.182           0.00000    0.0927    0.719  148.088  \n",
       "2         0.282           0.00000    0.1180    0.501  105.917  \n",
       "3         0.894           0.02600    0.0941    0.124  109.986  \n",
       "4         0.183           0.00000    0.1020    0.944  106.011  "
      ]
     },
     "execution_count": 115,
     "metadata": {},
     "output_type": "execute_result"
    }
   ],
   "source": [
    "audio_features_df.head()"
   ]
  },
  {
   "cell_type": "markdown",
   "id": "boolean-woman",
   "metadata": {},
   "source": [
    "### Artist - Dimension Table\n",
    "\n",
    "This [endpoint](https://developer.spotify.com/documentation/web-api/reference/#/operations/get-multiple-artists) is used to extract data of artists, the limit is 50 artists per requests"
   ]
  },
  {
   "cell_type": "code",
   "execution_count": 116,
   "id": "independent-league",
   "metadata": {},
   "outputs": [],
   "source": [
    "# Get list of artist ID without duplicate \n",
    "artist_ids_list = song_artists_df['artist_id'].unique().tolist()"
   ]
  },
  {
   "cell_type": "code",
   "execution_count": 117,
   "id": "corporate-quest",
   "metadata": {},
   "outputs": [],
   "source": [
    "# Get multiple artist data and structuren datafram for Artist Table\n",
    "artists_dict = {\n",
    "    'artist_id': [],\n",
    "    'artist_name': [],\n",
    "    'followers': [],\n",
    "    'popularity': [],\n",
    "    'external_url': []\n",
    "}\n",
    "\n",
    "for i in range(0, len(artist_ids_list), 50):\n",
    "    artist_data = sp.artists(artist_ids_list[i:i+50])\n",
    "\n",
    "    for artist in artist_data['artists']:\n",
    "        artists_dict['artist_id'].append(artist['id'])\n",
    "        artists_dict['artist_name'].append(artist['name'])\n",
    "        artists_dict['followers'].append(artist['followers']['total'])\n",
    "        artists_dict['popularity'].append(artist['popularity'])\n",
    "        artists_dict['external_url'].append(artist['external_urls']['spotify'])\n",
    "\n",
    "artists_df = pd.DataFrame(artists_dict)"
   ]
  },
  {
   "cell_type": "code",
   "execution_count": 118,
   "id": "considered-schedule",
   "metadata": {},
   "outputs": [],
   "source": [
    "# Check missing values\n",
    "if artists_df.isnull().values.any():\n",
    "    raise Exception(\"Null value found in artist data\")"
   ]
  },
  {
   "cell_type": "code",
   "execution_count": 119,
   "id": "controlled-associate",
   "metadata": {},
   "outputs": [
    {
     "data": {
      "text/html": [
       "<div>\n",
       "<style scoped>\n",
       "    .dataframe tbody tr th:only-of-type {\n",
       "        vertical-align: middle;\n",
       "    }\n",
       "\n",
       "    .dataframe tbody tr th {\n",
       "        vertical-align: top;\n",
       "    }\n",
       "\n",
       "    .dataframe thead th {\n",
       "        text-align: right;\n",
       "    }\n",
       "</style>\n",
       "<table border=\"1\" class=\"dataframe\">\n",
       "  <thead>\n",
       "    <tr style=\"text-align: right;\">\n",
       "      <th></th>\n",
       "      <th>artist_id</th>\n",
       "      <th>artist_name</th>\n",
       "      <th>followers</th>\n",
       "      <th>popularity</th>\n",
       "      <th>external_url</th>\n",
       "    </tr>\n",
       "  </thead>\n",
       "  <tbody>\n",
       "    <tr>\n",
       "      <th>0</th>\n",
       "      <td>0Hxo49G2Y9jzrRGqQeok1m</td>\n",
       "      <td>Vinh Khuat</td>\n",
       "      <td>10335</td>\n",
       "      <td>30</td>\n",
       "      <td>https://open.spotify.com/artist/0Hxo49G2Y9jzrR...</td>\n",
       "    </tr>\n",
       "    <tr>\n",
       "      <th>1</th>\n",
       "      <td>0du5cEVh5yTK9QJze8zA0C</td>\n",
       "      <td>Bruno Mars</td>\n",
       "      <td>41116353</td>\n",
       "      <td>86</td>\n",
       "      <td>https://open.spotify.com/artist/0du5cEVh5yTK9Q...</td>\n",
       "    </tr>\n",
       "    <tr>\n",
       "      <th>2</th>\n",
       "      <td>3jK9MiCrA42lLAdMGUZpwa</td>\n",
       "      <td>Anderson .Paak</td>\n",
       "      <td>2185443</td>\n",
       "      <td>77</td>\n",
       "      <td>https://open.spotify.com/artist/3jK9MiCrA42lLA...</td>\n",
       "    </tr>\n",
       "    <tr>\n",
       "      <th>3</th>\n",
       "      <td>6PvvGcCY2XtUcSRld1Wilr</td>\n",
       "      <td>Silk Sonic</td>\n",
       "      <td>684408</td>\n",
       "      <td>73</td>\n",
       "      <td>https://open.spotify.com/artist/6PvvGcCY2XtUcS...</td>\n",
       "    </tr>\n",
       "    <tr>\n",
       "      <th>4</th>\n",
       "      <td>61GRLAWKX8C8l7pLwqJgny</td>\n",
       "      <td>Aaron Kellim</td>\n",
       "      <td>1217</td>\n",
       "      <td>30</td>\n",
       "      <td>https://open.spotify.com/artist/61GRLAWKX8C8l7...</td>\n",
       "    </tr>\n",
       "  </tbody>\n",
       "</table>\n",
       "</div>"
      ],
      "text/plain": [
       "                artist_id     artist_name  followers  popularity  \\\n",
       "0  0Hxo49G2Y9jzrRGqQeok1m      Vinh Khuat      10335          30   \n",
       "1  0du5cEVh5yTK9QJze8zA0C      Bruno Mars   41116353          86   \n",
       "2  3jK9MiCrA42lLAdMGUZpwa  Anderson .Paak    2185443          77   \n",
       "3  6PvvGcCY2XtUcSRld1Wilr      Silk Sonic     684408          73   \n",
       "4  61GRLAWKX8C8l7pLwqJgny    Aaron Kellim       1217          30   \n",
       "\n",
       "                                        external_url  \n",
       "0  https://open.spotify.com/artist/0Hxo49G2Y9jzrR...  \n",
       "1  https://open.spotify.com/artist/0du5cEVh5yTK9Q...  \n",
       "2  https://open.spotify.com/artist/3jK9MiCrA42lLA...  \n",
       "3  https://open.spotify.com/artist/6PvvGcCY2XtUcS...  \n",
       "4  https://open.spotify.com/artist/61GRLAWKX8C8l7...  "
      ]
     },
     "execution_count": 119,
     "metadata": {},
     "output_type": "execute_result"
    }
   ],
   "source": [
    "artists_df.head()"
   ]
  },
  {
   "cell_type": "markdown",
   "id": "gorgeous-award",
   "metadata": {},
   "source": [
    "### Time - Dimension Table"
   ]
  },
  {
   "cell_type": "code",
   "execution_count": 120,
   "id": "charged-formula",
   "metadata": {},
   "outputs": [
    {
     "data": {
      "text/html": [
       "<div>\n",
       "<style scoped>\n",
       "    .dataframe tbody tr th:only-of-type {\n",
       "        vertical-align: middle;\n",
       "    }\n",
       "\n",
       "    .dataframe tbody tr th {\n",
       "        vertical-align: top;\n",
       "    }\n",
       "\n",
       "    .dataframe thead th {\n",
       "        text-align: right;\n",
       "    }\n",
       "</style>\n",
       "<table border=\"1\" class=\"dataframe\">\n",
       "  <thead>\n",
       "    <tr style=\"text-align: right;\">\n",
       "      <th></th>\n",
       "      <th>start_time</th>\n",
       "      <th>time</th>\n",
       "      <th>day</th>\n",
       "      <th>month</th>\n",
       "      <th>year</th>\n",
       "      <th>weekday</th>\n",
       "    </tr>\n",
       "  </thead>\n",
       "  <tbody>\n",
       "    <tr>\n",
       "      <th>0</th>\n",
       "      <td>2022-06-17 02:31:19</td>\n",
       "      <td>02:31:19</td>\n",
       "      <td>17</td>\n",
       "      <td>6</td>\n",
       "      <td>2022</td>\n",
       "      <td>4</td>\n",
       "    </tr>\n",
       "    <tr>\n",
       "      <th>1</th>\n",
       "      <td>2022-06-17 01:35:06</td>\n",
       "      <td>01:35:06</td>\n",
       "      <td>17</td>\n",
       "      <td>6</td>\n",
       "      <td>2022</td>\n",
       "      <td>4</td>\n",
       "    </tr>\n",
       "    <tr>\n",
       "      <th>2</th>\n",
       "      <td>2022-06-17 01:31:03</td>\n",
       "      <td>01:31:03</td>\n",
       "      <td>17</td>\n",
       "      <td>6</td>\n",
       "      <td>2022</td>\n",
       "      <td>4</td>\n",
       "    </tr>\n",
       "    <tr>\n",
       "      <th>3</th>\n",
       "      <td>2022-06-17 01:27:17</td>\n",
       "      <td>01:27:17</td>\n",
       "      <td>17</td>\n",
       "      <td>6</td>\n",
       "      <td>2022</td>\n",
       "      <td>4</td>\n",
       "    </tr>\n",
       "    <tr>\n",
       "      <th>4</th>\n",
       "      <td>2022-06-17 01:22:29</td>\n",
       "      <td>01:22:29</td>\n",
       "      <td>17</td>\n",
       "      <td>6</td>\n",
       "      <td>2022</td>\n",
       "      <td>4</td>\n",
       "    </tr>\n",
       "  </tbody>\n",
       "</table>\n",
       "</div>"
      ],
      "text/plain": [
       "           start_time      time  day  month  year  weekday\n",
       "0 2022-06-17 02:31:19  02:31:19   17      6  2022        4\n",
       "1 2022-06-17 01:35:06  01:35:06   17      6  2022        4\n",
       "2 2022-06-17 01:31:03  01:31:03   17      6  2022        4\n",
       "3 2022-06-17 01:27:17  01:27:17   17      6  2022        4\n",
       "4 2022-06-17 01:22:29  01:22:29   17      6  2022        4"
      ]
     },
     "execution_count": 120,
     "metadata": {},
     "output_type": "execute_result"
    }
   ],
   "source": [
    "# Get time data and structure dataframe for Time Table\n",
    "played_songs_df['played_at'] = pd.to_datetime(played_songs_df['played_at'])\n",
    "time_df = pd.DataFrame({\"start_time\": played_songs_df['played_at'],\n",
    "                        \"time\": played_songs_df['played_at'].astype(str).str[11:],\n",
    "                        \"day\": played_songs_df['played_at'].dt.day,\n",
    "                        \"month\": played_songs_df['played_at'].dt.month,\n",
    "                        \"year\": played_songs_df['played_at'].dt.year,\n",
    "                        \"weekday\": played_songs_df['played_at'].dt.weekday})\n",
    "\n",
    "time_df.head()"
   ]
  },
  {
   "cell_type": "markdown",
   "id": "answering-toolbox",
   "metadata": {},
   "source": [
    "## Load transformed data into database\n",
    "\n",
    "To load the data into the database,first,create a temporary table, and use `.to_sql` method to load data into it. Then, inserting data from temporary tables to base tables to avoid the table's primary key already exists."
   ]
  },
  {
   "cell_type": "code",
   "execution_count": 121,
   "id": "protective-relative",
   "metadata": {},
   "outputs": [],
   "source": [
    "# Connect to PostgresSQL database\n",
    "engine = create_engine('postgresql+psycopg2://{username}:{password}@{host}/{database}'.format(username=USER, \n",
    "                                                                                            password=PASSWORD,\n",
    "                                                                                            host=HOST,\n",
    "                                                                                            database='SpotifyListeningHistory'))\n",
    "conn = engine.raw_connection()\n",
    "cur = conn.cursor()"
   ]
  },
  {
   "cell_type": "code",
   "execution_count": 122,
   "id": "42490cef",
   "metadata": {},
   "outputs": [
    {
     "name": "stdout",
     "output_type": "stream",
     "text": [
      "Wall time: 327 ms\n"
     ]
    },
    {
     "data": {
      "text/plain": [
       "<sqlalchemy.engine.result.ResultProxy at 0x2495d241f48>"
      ]
     },
     "execution_count": 122,
     "metadata": {},
     "output_type": "execute_result"
    }
   ],
   "source": [
    "%%time\n",
    "# Album Table\n",
    "cur.execute('''\n",
    "    CREATE TEMP TABLE IF NOT EXISTS temp_album AS \n",
    "    SELECT * FROM album LIMIT 0;\n",
    "''')\n",
    "albums_df.to_sql(\"temp_album\", con=engine, if_exists='replace', index=False)\n",
    "engine.execute('''\n",
    "    INSERT INTO public.album\n",
    "    SELECT * FROM temp_album\n",
    "    WHERE temp_album.album_id NOT IN (SELECT album_id FROM public.album);\n",
    "''')"
   ]
  },
  {
   "cell_type": "code",
   "execution_count": 123,
   "id": "processed-delhi",
   "metadata": {},
   "outputs": [
    {
     "name": "stdout",
     "output_type": "stream",
     "text": [
      "Wall time: 128 ms\n"
     ]
    },
    {
     "data": {
      "text/plain": [
       "<sqlalchemy.engine.result.ResultProxy at 0x2495cdb7348>"
      ]
     },
     "execution_count": 123,
     "metadata": {},
     "output_type": "execute_result"
    }
   ],
   "source": [
    "%%time\n",
    "# Song Table\n",
    "cur.execute('''\n",
    "    CREATE TEMP TABLE IF NOT EXISTS temp_song AS \n",
    "    SELECT * FROM song LIMIT 0;\n",
    "''')\n",
    "songs_df.to_sql(\"temp_song\", con=engine, if_exists='replace', index=False)\n",
    "\n",
    "engine.execute('''\n",
    "    INSERT INTO public.song\n",
    "    SELECT * FROM temp_song\n",
    "    WHERE temp_song.song_id NOT IN (SELECT song_id FROM public.song);\n",
    "''')"
   ]
  },
  {
   "cell_type": "code",
   "execution_count": 124,
   "id": "caring-conclusion",
   "metadata": {},
   "outputs": [
    {
     "name": "stdout",
     "output_type": "stream",
     "text": [
      "Wall time: 124 ms\n"
     ]
    },
    {
     "data": {
      "text/plain": [
       "<sqlalchemy.engine.result.ResultProxy at 0x2495cce0248>"
      ]
     },
     "execution_count": 124,
     "metadata": {},
     "output_type": "execute_result"
    }
   ],
   "source": [
    "%%time\n",
    "# Artist Table\n",
    "cur.execute('''\n",
    "    CREATE TEMP TABLE IF NOT EXISTS temp_artist AS \n",
    "    SELECT * FROM artist LIMIT 0;\n",
    "''')\n",
    "artists_df.to_sql(\"temp_artist\", con=engine, schema='public', if_exists='replace', index=False)\n",
    "engine.execute('''\n",
    "    INSERT INTO public.artist\n",
    "    SELECT * FROM temp_artist\n",
    "    WHERE temp_artist.artist_id NOT IN (SELECT artist_id FROM public.artist);\n",
    "''')"
   ]
  },
  {
   "cell_type": "code",
   "execution_count": 125,
   "id": "a86590ed",
   "metadata": {},
   "outputs": [
    {
     "name": "stdout",
     "output_type": "stream",
     "text": [
      "Wall time: 117 ms\n"
     ]
    },
    {
     "data": {
      "text/plain": [
       "<sqlalchemy.engine.result.ResultProxy at 0x2495cea6348>"
      ]
     },
     "execution_count": 125,
     "metadata": {},
     "output_type": "execute_result"
    }
   ],
   "source": [
    "%%time\n",
    "# Song_Artist Table\n",
    "cur.execute('''\n",
    "    CREATE TEMP TABLE IF NOT EXISTS temp_song_artists AS \n",
    "    SELECT * FROM song_artists LIMIT 0;\n",
    "''')\n",
    "song_artists_df.to_sql(\"temp_song_artists\", con=engine, schema='public', if_exists='replace', index=False)\n",
    "engine.execute('''\n",
    "    INSERT INTO public.song_artists\n",
    "    SELECT * FROM temp_song_artists tsa\n",
    "    WHERE NOT EXISTS (SELECT *\n",
    "                     FROM song_artists sa\n",
    "                     WHERE tsa.song_id = sa.song_id AND tsa.artist_id = sa.artist_id);\n",
    "''')"
   ]
  },
  {
   "cell_type": "code",
   "execution_count": 126,
   "id": "fundamental-hampshire",
   "metadata": {},
   "outputs": [
    {
     "name": "stdout",
     "output_type": "stream",
     "text": [
      "Wall time: 127 ms\n"
     ]
    },
    {
     "data": {
      "text/plain": [
       "<sqlalchemy.engine.result.ResultProxy at 0x2495cea6488>"
      ]
     },
     "execution_count": 126,
     "metadata": {},
     "output_type": "execute_result"
    }
   ],
   "source": [
    "%%time\n",
    "# Time Table\n",
    "cur.execute('''\n",
    "    CREATE TEMP TABLE IF NOT EXISTS temp_time AS \n",
    "    SELECT * FROM Time LIMIT 0;\n",
    "''')\n",
    "time_df.to_sql(\"temp_time\", con=engine, schema='public', if_exists='replace', index=False)\n",
    "engine.execute('''\n",
    "    INSERT INTO public.time\n",
    "    SELECT * FROM temp_time\n",
    "    WHERE temp_time.start_time NOT IN (SELECT start_time FROM public.time);\n",
    "''')"
   ]
  },
  {
   "cell_type": "code",
   "execution_count": 127,
   "id": "immediate-threshold",
   "metadata": {},
   "outputs": [
    {
     "name": "stdout",
     "output_type": "stream",
     "text": [
      "Wall time: 101 ms\n"
     ]
    },
    {
     "data": {
      "text/plain": [
       "<sqlalchemy.engine.result.ResultProxy at 0x2495cc57708>"
      ]
     },
     "execution_count": 127,
     "metadata": {},
     "output_type": "execute_result"
    }
   ],
   "source": [
    "%%time\n",
    "# AudioFeatures Table\n",
    "cur.execute('''\n",
    "    CREATE TEMP TABLE IF NOT EXISTS temp_audio_feature AS \n",
    "    SELECT * FROM audio_feature LIMIT 0;\n",
    "''')\n",
    "audio_features_df.to_sql(\"temp_audio_feature\", con=engine, if_exists='replace', index=False)\n",
    "engine.execute('''\n",
    "    INSERT INTO public.audio_feature\n",
    "    SELECT * FROM temp_audio_feature\n",
    "    WHERE temp_audio_feature.song_id NOT IN (SELECT song_id FROM public.audio_feature);\n",
    "''')"
   ]
  },
  {
   "cell_type": "code",
   "execution_count": 128,
   "id": "lesbian-accounting",
   "metadata": {},
   "outputs": [
    {
     "name": "stdout",
     "output_type": "stream",
     "text": [
      "Wall time: 109 ms\n"
     ]
    },
    {
     "data": {
      "text/plain": [
       "<sqlalchemy.engine.result.ResultProxy at 0x2495e5e0048>"
      ]
     },
     "execution_count": 128,
     "metadata": {},
     "output_type": "execute_result"
    }
   ],
   "source": [
    "%%time\n",
    "# PlayedSongs Table\n",
    "cur.execute('''\n",
    "    CREATE TEMP TABLE IF NOT EXISTS temp_played_song \n",
    "    AS SELECT * FROM played_song LIMIT 0;\n",
    "''')\n",
    "played_songs_df.to_sql(\"temp_played_song\", con=engine, if_exists='replace', index=False)\n",
    "\n",
    "engine.execute('''\n",
    "    INSERT INTO public.played_song\n",
    "    SELECT * FROM temp_played_song\n",
    "    WHERE CAST(temp_played_song.played_song_id AS TEXT) NOT IN (SELECT played_song_id FROM public.played_song);\n",
    "''')"
   ]
  },
  {
   "cell_type": "code",
   "execution_count": 129,
   "id": "adverse-hartford",
   "metadata": {},
   "outputs": [],
   "source": [
    "# Close connection\n",
    "cur.close()\n",
    "conn.close()"
   ]
  },
  {
   "cell_type": "code",
   "execution_count": null,
   "id": "indonesian-copying",
   "metadata": {},
   "outputs": [],
   "source": []
  }
 ],
 "metadata": {
  "kernelspec": {
   "display_name": "Python 3",
   "language": "python",
   "name": "python3"
  },
  "language_info": {
   "codemirror_mode": {
    "name": "ipython",
    "version": 3
   },
   "file_extension": ".py",
   "mimetype": "text/x-python",
   "name": "python",
   "nbconvert_exporter": "python",
   "pygments_lexer": "ipython3",
   "version": "3.7.4"
  },
  "vscode": {
   "interpreter": {
    "hash": "c4d198d844dd549ae0d72eaafa1cc6c9171c548e2847d69d417a0c7f11a67b56"
   }
  }
 },
 "nbformat": 4,
 "nbformat_minor": 5
}
