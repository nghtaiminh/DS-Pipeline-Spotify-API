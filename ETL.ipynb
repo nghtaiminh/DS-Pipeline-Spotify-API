{
 "cells": [
  {
   "cell_type": "markdown",
   "id": "improved-gauge",
   "metadata": {},
   "source": [
    "# ETL Process for Spotify API\n",
    "\n",
    "This notebook is used to pull my listening activitys and songs data from Spotify API and perform ETL process\n",
    "\n",
    "## Spotify API Access\n",
    "To fetch data from Spotify, you'll need to go to https://developer.spotify.com/dashboard/login and create Spotify Developer and create an application.\n",
    "\n",
    "In the application, there are some identifiers you'll need for an OAuth flow:\n",
    "\n",
    "1. Under **Show Client Secret**:\n",
    " - Client ID\n",
    " - Client Secret\n",
    "\n",
    "2. In **Edit Settings**:\n",
    " - Redirect URIs (You can add http://localhost:8888/callback if you run on localhost)\n",
    " \n",
    " \n",
    "*Note that you will need an ordinary Spotify account to login, create an app, and get the credentials"
   ]
  },
  {
   "cell_type": "code",
   "execution_count": 1,
   "id": "european-language",
   "metadata": {},
   "outputs": [],
   "source": [
    "# Import necessary libs\n",
    "import pandas as pd\n",
    "import numpy as np\n",
    "import datetime\n",
    "\n",
    "import spotipy\n",
    "from spotipy.oauth2 import SpotifyOAuth\n",
    "\n",
    "from sqlalchemy import create_engine"
   ]
  },
  {
   "cell_type": "code",
   "execution_count": 2,
   "id": "split-prediction",
   "metadata": {},
   "outputs": [],
   "source": [
    "# Insert your Spotify username and credentials rom Spotify Developer\n",
    "SPOTIFY_CLIENT_ID = \"xxx\"\n",
    "SPOTIFY_CLIENT_SECRET = \"xxx\"\n",
    "REDIRECT_URL = \"xxx\"\n",
    "\n",
    "# Inser your PostgresSQL database configuration\n",
    "HOST=\"xxx\"\n",
    "DATABASE=\"xxx\"\n",
    "USER=\"xxx\"\n",
    "PASSWORD=\"xxx\""
   ]
  },
  {
   "cell_type": "code",
   "execution_count": 3,
   "id": "ranging-david",
   "metadata": {},
   "outputs": [],
   "source": [
    "# Create a Client Authorization flow and get the token\n",
    "sp = spotipy.Spotify(auth_manager=SpotifyOAuth(\n",
    "        client_id=SPOTIFY_CLIENT_ID,\n",
    "        client_secret=SPOTIFY_CLIENT_SECRET,\n",
    "        redirect_uri=REDIRECT_URL,\n",
    "        scope=\"user-read-recently-played\"\n",
    "    ))"
   ]
  },
  {
   "cell_type": "markdown",
   "id": "improving-flash",
   "metadata": {},
   "source": [
    "## Perform extraction and transformation for each table"
   ]
  },
  {
   "cell_type": "markdown",
   "id": "prospective-pavilion",
   "metadata": {},
   "source": [
    "### PlayedSong Table - Fact Table\n",
    "\n"
   ]
  },
  {
   "cell_type": "code",
   "execution_count": 4,
   "id": "revised-house",
   "metadata": {},
   "outputs": [
    {
     "data": {
      "text/html": [
       "<div>\n",
       "<style scoped>\n",
       "    .dataframe tbody tr th:only-of-type {\n",
       "        vertical-align: middle;\n",
       "    }\n",
       "\n",
       "    .dataframe tbody tr th {\n",
       "        vertical-align: top;\n",
       "    }\n",
       "\n",
       "    .dataframe thead th {\n",
       "        text-align: right;\n",
       "    }\n",
       "</style>\n",
       "<table border=\"1\" class=\"dataframe\">\n",
       "  <thead>\n",
       "    <tr style=\"text-align: right;\">\n",
       "      <th></th>\n",
       "      <th>song_id</th>\n",
       "      <th>song_name</th>\n",
       "      <th>artist_id</th>\n",
       "      <th>artist_name</th>\n",
       "      <th>played_at</th>\n",
       "    </tr>\n",
       "  </thead>\n",
       "  <tbody>\n",
       "    <tr>\n",
       "      <th>0</th>\n",
       "      <td>2OKo7g3KfmCt3kyLvUAL0g</td>\n",
       "      <td>The Search</td>\n",
       "      <td>6fOMl44jA4Sp5b9PpYCkzz</td>\n",
       "      <td>NF</td>\n",
       "      <td>2021-06-19T11:31:40.341Z</td>\n",
       "    </tr>\n",
       "    <tr>\n",
       "      <th>1</th>\n",
       "      <td>0SmQ0UWeiHKQtxUej4Rem6</td>\n",
       "      <td>Tháng Năm</td>\n",
       "      <td>6CGGvCBHWqQ4HXtn5aLhbh</td>\n",
       "      <td>Soobin Hoang Son</td>\n",
       "      <td>2021-06-19T11:26:50.857Z</td>\n",
       "    </tr>\n",
       "    <tr>\n",
       "      <th>2</th>\n",
       "      <td>34uOIsoy6ETS2sxOTWBRDF</td>\n",
       "      <td>Trốn Tìm</td>\n",
       "      <td>1LEtM3AleYg1xabW6CRkpi</td>\n",
       "      <td>Đen</td>\n",
       "      <td>2021-06-19T11:23:05.074Z</td>\n",
       "    </tr>\n",
       "    <tr>\n",
       "      <th>3</th>\n",
       "      <td>63qZf6349d3ngku9hrzLac</td>\n",
       "      <td>The Playah (feat. SlimV) - Special Performance</td>\n",
       "      <td>6CGGvCBHWqQ4HXtn5aLhbh</td>\n",
       "      <td>Soobin Hoang Son</td>\n",
       "      <td>2021-06-19T11:18:55.526Z</td>\n",
       "    </tr>\n",
       "    <tr>\n",
       "      <th>4</th>\n",
       "      <td>2bgTY4UwhfBYhGT4HUYStN</td>\n",
       "      <td>Butter</td>\n",
       "      <td>3Nrfpe0tUJi4K4DXYWgMUX</td>\n",
       "      <td>BTS</td>\n",
       "      <td>2021-06-19T11:11:05.513Z</td>\n",
       "    </tr>\n",
       "  </tbody>\n",
       "</table>\n",
       "</div>"
      ],
      "text/plain": [
       "                  song_id                                       song_name  \\\n",
       "0  2OKo7g3KfmCt3kyLvUAL0g                                      The Search   \n",
       "1  0SmQ0UWeiHKQtxUej4Rem6                                       Tháng Năm   \n",
       "2  34uOIsoy6ETS2sxOTWBRDF                                        Trốn Tìm   \n",
       "3  63qZf6349d3ngku9hrzLac  The Playah (feat. SlimV) - Special Performance   \n",
       "4  2bgTY4UwhfBYhGT4HUYStN                                          Butter   \n",
       "\n",
       "                artist_id       artist_name                 played_at  \n",
       "0  6fOMl44jA4Sp5b9PpYCkzz                NF  2021-06-19T11:31:40.341Z  \n",
       "1  6CGGvCBHWqQ4HXtn5aLhbh  Soobin Hoang Son  2021-06-19T11:26:50.857Z  \n",
       "2  1LEtM3AleYg1xabW6CRkpi               Đen  2021-06-19T11:23:05.074Z  \n",
       "3  6CGGvCBHWqQ4HXtn5aLhbh  Soobin Hoang Son  2021-06-19T11:18:55.526Z  \n",
       "4  3Nrfpe0tUJi4K4DXYWgMUX               BTS  2021-06-19T11:11:05.513Z  "
      ]
     },
     "execution_count": 4,
     "metadata": {},
     "output_type": "execute_result"
    }
   ],
   "source": [
    "today = datetime.datetime.now()\n",
    "ndays_ago = today - datetime.timedelta(days=7)  \n",
    "time = int(ndays_ago.timestamp()) * 1000\n",
    "# Get user's recently-played-tracks data and\n",
    "recently_played_songs = sp.current_user_recently_played(after=time)\n",
    "\n",
    "# Structure the dataframe for PlayedSong Table\n",
    "songs_dict = {\n",
    "        \"song_id\": [],\n",
    "        \"song_name\": [],\n",
    "        \"artist_id\": [],\n",
    "        \"artist_name\": [],\n",
    "        \"played_at\": [],\n",
    "    }\n",
    "\n",
    "for song in recently_played_songs['items']:\n",
    "    songs_dict['song_id'].append(song[\"track\"]['id'])\n",
    "    songs_dict['song_name'].append(song[\"track\"][\"name\"])\n",
    "    songs_dict['artist_id'].append(song[\"track\"][\"album\"][\"artists\"][0][\"id\"])\n",
    "    songs_dict['artist_name'].append(song[\"track\"][\"album\"][\"artists\"][0][\"name\"])\n",
    "    songs_dict['played_at'].append(song[\"played_at\"])\n",
    "\n",
    "played_songs_df = pd.DataFrame(songs_dict)\n",
    "played_songs_df.head()"
   ]
  },
  {
   "cell_type": "code",
   "execution_count": 5,
   "id": "lesser-sustainability",
   "metadata": {},
   "outputs": [
    {
     "data": {
      "text/html": [
       "<div>\n",
       "<style scoped>\n",
       "    .dataframe tbody tr th:only-of-type {\n",
       "        vertical-align: middle;\n",
       "    }\n",
       "\n",
       "    .dataframe tbody tr th {\n",
       "        vertical-align: top;\n",
       "    }\n",
       "\n",
       "    .dataframe thead th {\n",
       "        text-align: right;\n",
       "    }\n",
       "</style>\n",
       "<table border=\"1\" class=\"dataframe\">\n",
       "  <thead>\n",
       "    <tr style=\"text-align: right;\">\n",
       "      <th></th>\n",
       "      <th>played_song_id</th>\n",
       "      <th>song_id</th>\n",
       "      <th>song_name</th>\n",
       "      <th>artist_id</th>\n",
       "      <th>artist_name</th>\n",
       "      <th>played_at</th>\n",
       "    </tr>\n",
       "  </thead>\n",
       "  <tbody>\n",
       "    <tr>\n",
       "      <th>0</th>\n",
       "      <td>1624084300341</td>\n",
       "      <td>2OKo7g3KfmCt3kyLvUAL0g</td>\n",
       "      <td>The Search</td>\n",
       "      <td>6fOMl44jA4Sp5b9PpYCkzz</td>\n",
       "      <td>NF</td>\n",
       "      <td>06-19-2021 06:31:40</td>\n",
       "    </tr>\n",
       "    <tr>\n",
       "      <th>1</th>\n",
       "      <td>1624084010857</td>\n",
       "      <td>0SmQ0UWeiHKQtxUej4Rem6</td>\n",
       "      <td>Tháng Năm</td>\n",
       "      <td>6CGGvCBHWqQ4HXtn5aLhbh</td>\n",
       "      <td>Soobin Hoang Son</td>\n",
       "      <td>06-19-2021 06:26:50</td>\n",
       "    </tr>\n",
       "    <tr>\n",
       "      <th>2</th>\n",
       "      <td>1624083785074</td>\n",
       "      <td>34uOIsoy6ETS2sxOTWBRDF</td>\n",
       "      <td>Trốn Tìm</td>\n",
       "      <td>1LEtM3AleYg1xabW6CRkpi</td>\n",
       "      <td>Đen</td>\n",
       "      <td>06-19-2021 06:23:05</td>\n",
       "    </tr>\n",
       "    <tr>\n",
       "      <th>3</th>\n",
       "      <td>1624083535526</td>\n",
       "      <td>63qZf6349d3ngku9hrzLac</td>\n",
       "      <td>The Playah (feat. SlimV) - Special Performance</td>\n",
       "      <td>6CGGvCBHWqQ4HXtn5aLhbh</td>\n",
       "      <td>Soobin Hoang Son</td>\n",
       "      <td>06-19-2021 06:18:55</td>\n",
       "    </tr>\n",
       "    <tr>\n",
       "      <th>4</th>\n",
       "      <td>1624083065513</td>\n",
       "      <td>2bgTY4UwhfBYhGT4HUYStN</td>\n",
       "      <td>Butter</td>\n",
       "      <td>3Nrfpe0tUJi4K4DXYWgMUX</td>\n",
       "      <td>BTS</td>\n",
       "      <td>06-19-2021 06:11:05</td>\n",
       "    </tr>\n",
       "  </tbody>\n",
       "</table>\n",
       "</div>"
      ],
      "text/plain": [
       "   played_song_id                 song_id  \\\n",
       "0   1624084300341  2OKo7g3KfmCt3kyLvUAL0g   \n",
       "1   1624084010857  0SmQ0UWeiHKQtxUej4Rem6   \n",
       "2   1624083785074  34uOIsoy6ETS2sxOTWBRDF   \n",
       "3   1624083535526  63qZf6349d3ngku9hrzLac   \n",
       "4   1624083065513  2bgTY4UwhfBYhGT4HUYStN   \n",
       "\n",
       "                                        song_name               artist_id  \\\n",
       "0                                      The Search  6fOMl44jA4Sp5b9PpYCkzz   \n",
       "1                                       Tháng Năm  6CGGvCBHWqQ4HXtn5aLhbh   \n",
       "2                                        Trốn Tìm  1LEtM3AleYg1xabW6CRkpi   \n",
       "3  The Playah (feat. SlimV) - Special Performance  6CGGvCBHWqQ4HXtn5aLhbh   \n",
       "4                                          Butter  3Nrfpe0tUJi4K4DXYWgMUX   \n",
       "\n",
       "        artist_name            played_at  \n",
       "0                NF  06-19-2021 06:31:40  \n",
       "1  Soobin Hoang Son  06-19-2021 06:26:50  \n",
       "2               Đen  06-19-2021 06:23:05  \n",
       "3  Soobin Hoang Son  06-19-2021 06:18:55  \n",
       "4               BTS  06-19-2021 06:11:05  "
      ]
     },
     "execution_count": 5,
     "metadata": {},
     "output_type": "execute_result"
    }
   ],
   "source": [
    "# Check missing values\n",
    "if played_songs_df.isnull().values.any():\n",
    "    raise Exception(\"Null value found in played songs data\")\n",
    "    \n",
    "timestamp_df = pd.to_datetime(played_songs_df['played_at'])\n",
    "# Change to GMT+7:00 timezone\n",
    "timestamp_df = timestamp_df + datetime.timedelta(hours=-5)\n",
    "#Set UNIX code for played_at as primary key, since only one song can played at a time\n",
    "played_songs_table_pk = timestamp_df.astype(np.int64) // 10**6\n",
    "# Format the timestamp\n",
    "timestamp_df = timestamp_df.dt.strftime(\"%m-%d-%Y %H:%M:%S\")\n",
    "played_songs_df['played_at'] = timestamp_df\n",
    "played_songs_df.insert(0, \"played_song_id\", played_songs_table_pk)\n",
    "\n",
    "played_songs_df.head()"
   ]
  },
  {
   "cell_type": "markdown",
   "id": "desirable-solomon",
   "metadata": {},
   "source": [
    "### Song Table - Dimension Table"
   ]
  },
  {
   "cell_type": "code",
   "execution_count": 6,
   "id": "warming-michigan",
   "metadata": {},
   "outputs": [],
   "source": [
    "# Get list of song ID without duplicate \n",
    "song_ids_list = played_songs_df['song_id'].unique().tolist()\n",
    "# Get multiple songs data\n",
    "songs_data = sp.tracks(tracks=song_ids_list, market=None) # maximum 50 IDs"
   ]
  },
  {
   "cell_type": "code",
   "execution_count": 7,
   "id": "selected-montana",
   "metadata": {},
   "outputs": [],
   "source": [
    "# Structure dataframe Songs Table\n",
    "songs_dict = {\n",
    "    'song_id': [],\n",
    "    'song_name' : [],\n",
    "    'artist_id': [],\n",
    "    'album_id': [],\n",
    "    'duration_ms': [],\n",
    "    'popularity': [],\n",
    "    'external_urls': []\n",
    "}\n",
    "\n",
    "for song in songs_data['tracks']:\n",
    "    songs_dict['song_id'].append(song['id'])\n",
    "    songs_dict['song_name'].append(song['name'])\n",
    "    songs_dict['artist_id'].append(song['artists'][0]['id'])\n",
    "    songs_dict['album_id'].append(song['album']['id'])\n",
    "    songs_dict['popularity'].append(song['popularity'])\n",
    "    songs_dict['duration_ms'].append(song['duration_ms'])\n",
    "    songs_dict['external_urls'].append(song['external_urls']['spotify'])\n",
    "\n",
    "songs_df = pd.DataFrame(songs_dict)"
   ]
  },
  {
   "cell_type": "code",
   "execution_count": 8,
   "id": "executive-landing",
   "metadata": {},
   "outputs": [],
   "source": [
    "# Check missing values\n",
    "if songs_df.isnull().values.any():\n",
    "    raise Exception(\"Null value found in songs data\")"
   ]
  },
  {
   "cell_type": "code",
   "execution_count": 9,
   "id": "bridal-bench",
   "metadata": {},
   "outputs": [
    {
     "data": {
      "text/html": [
       "<div>\n",
       "<style scoped>\n",
       "    .dataframe tbody tr th:only-of-type {\n",
       "        vertical-align: middle;\n",
       "    }\n",
       "\n",
       "    .dataframe tbody tr th {\n",
       "        vertical-align: top;\n",
       "    }\n",
       "\n",
       "    .dataframe thead th {\n",
       "        text-align: right;\n",
       "    }\n",
       "</style>\n",
       "<table border=\"1\" class=\"dataframe\">\n",
       "  <thead>\n",
       "    <tr style=\"text-align: right;\">\n",
       "      <th></th>\n",
       "      <th>song_id</th>\n",
       "      <th>song_name</th>\n",
       "      <th>artist_id</th>\n",
       "      <th>album_id</th>\n",
       "      <th>duration_ms</th>\n",
       "      <th>popularity</th>\n",
       "      <th>external_urls</th>\n",
       "    </tr>\n",
       "  </thead>\n",
       "  <tbody>\n",
       "    <tr>\n",
       "      <th>0</th>\n",
       "      <td>2OKo7g3KfmCt3kyLvUAL0g</td>\n",
       "      <td>The Search</td>\n",
       "      <td>6fOMl44jA4Sp5b9PpYCkzz</td>\n",
       "      <td>6w8mGg73sQl4QJEhpDUvpI</td>\n",
       "      <td>248040</td>\n",
       "      <td>73</td>\n",
       "      <td>https://open.spotify.com/track/2OKo7g3KfmCt3ky...</td>\n",
       "    </tr>\n",
       "    <tr>\n",
       "      <th>1</th>\n",
       "      <td>0SmQ0UWeiHKQtxUej4Rem6</td>\n",
       "      <td>Tháng Năm</td>\n",
       "      <td>6CGGvCBHWqQ4HXtn5aLhbh</td>\n",
       "      <td>5xduxfrnEQpYdH54ilWMAN</td>\n",
       "      <td>225358</td>\n",
       "      <td>60</td>\n",
       "      <td>https://open.spotify.com/track/0SmQ0UWeiHKQtxU...</td>\n",
       "    </tr>\n",
       "    <tr>\n",
       "      <th>2</th>\n",
       "      <td>34uOIsoy6ETS2sxOTWBRDF</td>\n",
       "      <td>Trốn Tìm</td>\n",
       "      <td>1LEtM3AleYg1xabW6CRkpi</td>\n",
       "      <td>1OWSGECq2oKMojwFp0EFvJ</td>\n",
       "      <td>248870</td>\n",
       "      <td>65</td>\n",
       "      <td>https://open.spotify.com/track/34uOIsoy6ETS2sx...</td>\n",
       "    </tr>\n",
       "    <tr>\n",
       "      <th>3</th>\n",
       "      <td>63qZf6349d3ngku9hrzLac</td>\n",
       "      <td>The Playah (feat. SlimV) - Special Performance</td>\n",
       "      <td>6CGGvCBHWqQ4HXtn5aLhbh</td>\n",
       "      <td>4437psfF6TPngVcOkFT90M</td>\n",
       "      <td>449577</td>\n",
       "      <td>62</td>\n",
       "      <td>https://open.spotify.com/track/63qZf6349d3ngku...</td>\n",
       "    </tr>\n",
       "    <tr>\n",
       "      <th>4</th>\n",
       "      <td>2bgTY4UwhfBYhGT4HUYStN</td>\n",
       "      <td>Butter</td>\n",
       "      <td>3Nrfpe0tUJi4K4DXYWgMUX</td>\n",
       "      <td>1HnJKmB4P6Z8RBdLMWx18w</td>\n",
       "      <td>164441</td>\n",
       "      <td>93</td>\n",
       "      <td>https://open.spotify.com/track/2bgTY4UwhfBYhGT...</td>\n",
       "    </tr>\n",
       "  </tbody>\n",
       "</table>\n",
       "</div>"
      ],
      "text/plain": [
       "                  song_id                                       song_name  \\\n",
       "0  2OKo7g3KfmCt3kyLvUAL0g                                      The Search   \n",
       "1  0SmQ0UWeiHKQtxUej4Rem6                                       Tháng Năm   \n",
       "2  34uOIsoy6ETS2sxOTWBRDF                                        Trốn Tìm   \n",
       "3  63qZf6349d3ngku9hrzLac  The Playah (feat. SlimV) - Special Performance   \n",
       "4  2bgTY4UwhfBYhGT4HUYStN                                          Butter   \n",
       "\n",
       "                artist_id                album_id  duration_ms  popularity  \\\n",
       "0  6fOMl44jA4Sp5b9PpYCkzz  6w8mGg73sQl4QJEhpDUvpI       248040          73   \n",
       "1  6CGGvCBHWqQ4HXtn5aLhbh  5xduxfrnEQpYdH54ilWMAN       225358          60   \n",
       "2  1LEtM3AleYg1xabW6CRkpi  1OWSGECq2oKMojwFp0EFvJ       248870          65   \n",
       "3  6CGGvCBHWqQ4HXtn5aLhbh  4437psfF6TPngVcOkFT90M       449577          62   \n",
       "4  3Nrfpe0tUJi4K4DXYWgMUX  1HnJKmB4P6Z8RBdLMWx18w       164441          93   \n",
       "\n",
       "                                       external_urls  \n",
       "0  https://open.spotify.com/track/2OKo7g3KfmCt3ky...  \n",
       "1  https://open.spotify.com/track/0SmQ0UWeiHKQtxU...  \n",
       "2  https://open.spotify.com/track/34uOIsoy6ETS2sx...  \n",
       "3  https://open.spotify.com/track/63qZf6349d3ngku...  \n",
       "4  https://open.spotify.com/track/2bgTY4UwhfBYhGT...  "
      ]
     },
     "execution_count": 9,
     "metadata": {},
     "output_type": "execute_result"
    }
   ],
   "source": [
    "songs_df.head()"
   ]
  },
  {
   "cell_type": "markdown",
   "id": "romantic-surfing",
   "metadata": {},
   "source": [
    "### SongFeature - Dimension Table"
   ]
  },
  {
   "cell_type": "code",
   "execution_count": 10,
   "id": "increasing-estimate",
   "metadata": {},
   "outputs": [],
   "source": [
    "# Get audio features data\n",
    "audio_features = sp.audio_features(tracks=song_ids_list)"
   ]
  },
  {
   "cell_type": "code",
   "execution_count": 11,
   "id": "pediatric-annual",
   "metadata": {},
   "outputs": [],
   "source": [
    "# Structure dataframe AudioFeature Table\n",
    "feature_dict = {\n",
    "        \"song_id\": [],\n",
    "        \"danceability\": [],\n",
    "        \"energy\": [],\n",
    "        \"loudness\": [],\n",
    "        \"speechiness\": [],\n",
    "        \"acousticness\": [],\n",
    "        \"instrumentalness\": [],\n",
    "        \"liveness\": [],\n",
    "        \"valence\": [],\n",
    "        \"tempo\": [],\n",
    "}\n",
    "for song in audio_features:\n",
    "    feature_dict['song_id'].append(song['id'])\n",
    "    feature_dict['danceability'].append(song['danceability'])\n",
    "    feature_dict['energy'].append(song['energy'])\n",
    "    feature_dict['loudness'].append(song['loudness'])\n",
    "    feature_dict['speechiness'].append(song['speechiness'])\n",
    "    feature_dict['acousticness'].append(song['acousticness'])\n",
    "    feature_dict['instrumentalness'].append(song['instrumentalness'])\n",
    "    feature_dict['liveness'].append(song['liveness'])\n",
    "    feature_dict['valence'].append(song['valence'])\n",
    "    feature_dict['tempo'].append(song['tempo'])\n",
    "\n",
    "audio_features_df = pd.DataFrame(feature_dict)"
   ]
  },
  {
   "cell_type": "code",
   "execution_count": 12,
   "id": "structured-parallel",
   "metadata": {},
   "outputs": [],
   "source": [
    "# Check missing values\n",
    "if audio_features_df.isnull().values.any():\n",
    "    raise Exception(\"Null value found in song feature data\")"
   ]
  },
  {
   "cell_type": "code",
   "execution_count": 13,
   "id": "instrumental-appendix",
   "metadata": {},
   "outputs": [
    {
     "data": {
      "text/html": [
       "<div>\n",
       "<style scoped>\n",
       "    .dataframe tbody tr th:only-of-type {\n",
       "        vertical-align: middle;\n",
       "    }\n",
       "\n",
       "    .dataframe tbody tr th {\n",
       "        vertical-align: top;\n",
       "    }\n",
       "\n",
       "    .dataframe thead th {\n",
       "        text-align: right;\n",
       "    }\n",
       "</style>\n",
       "<table border=\"1\" class=\"dataframe\">\n",
       "  <thead>\n",
       "    <tr style=\"text-align: right;\">\n",
       "      <th></th>\n",
       "      <th>song_id</th>\n",
       "      <th>danceability</th>\n",
       "      <th>energy</th>\n",
       "      <th>loudness</th>\n",
       "      <th>speechiness</th>\n",
       "      <th>acousticness</th>\n",
       "      <th>instrumentalness</th>\n",
       "      <th>liveness</th>\n",
       "      <th>valence</th>\n",
       "      <th>tempo</th>\n",
       "    </tr>\n",
       "  </thead>\n",
       "  <tbody>\n",
       "    <tr>\n",
       "      <th>0</th>\n",
       "      <td>2OKo7g3KfmCt3kyLvUAL0g</td>\n",
       "      <td>0.789</td>\n",
       "      <td>0.786</td>\n",
       "      <td>-4.788</td>\n",
       "      <td>0.2970</td>\n",
       "      <td>0.59600</td>\n",
       "      <td>0.000000</td>\n",
       "      <td>0.0997</td>\n",
       "      <td>0.390</td>\n",
       "      <td>119.957</td>\n",
       "    </tr>\n",
       "    <tr>\n",
       "      <th>1</th>\n",
       "      <td>0SmQ0UWeiHKQtxUej4Rem6</td>\n",
       "      <td>0.670</td>\n",
       "      <td>0.618</td>\n",
       "      <td>-5.467</td>\n",
       "      <td>0.0377</td>\n",
       "      <td>0.12800</td>\n",
       "      <td>0.000000</td>\n",
       "      <td>0.0534</td>\n",
       "      <td>0.251</td>\n",
       "      <td>147.015</td>\n",
       "    </tr>\n",
       "    <tr>\n",
       "      <th>2</th>\n",
       "      <td>34uOIsoy6ETS2sxOTWBRDF</td>\n",
       "      <td>0.771</td>\n",
       "      <td>0.287</td>\n",
       "      <td>-17.208</td>\n",
       "      <td>0.0720</td>\n",
       "      <td>0.66900</td>\n",
       "      <td>0.000000</td>\n",
       "      <td>0.1040</td>\n",
       "      <td>0.402</td>\n",
       "      <td>93.041</td>\n",
       "    </tr>\n",
       "    <tr>\n",
       "      <th>3</th>\n",
       "      <td>63qZf6349d3ngku9hrzLac</td>\n",
       "      <td>0.572</td>\n",
       "      <td>0.513</td>\n",
       "      <td>-6.078</td>\n",
       "      <td>0.0358</td>\n",
       "      <td>0.14800</td>\n",
       "      <td>0.000001</td>\n",
       "      <td>0.0597</td>\n",
       "      <td>0.528</td>\n",
       "      <td>116.397</td>\n",
       "    </tr>\n",
       "    <tr>\n",
       "      <th>4</th>\n",
       "      <td>2bgTY4UwhfBYhGT4HUYStN</td>\n",
       "      <td>0.759</td>\n",
       "      <td>0.459</td>\n",
       "      <td>-5.187</td>\n",
       "      <td>0.0948</td>\n",
       "      <td>0.00323</td>\n",
       "      <td>0.000000</td>\n",
       "      <td>0.0906</td>\n",
       "      <td>0.695</td>\n",
       "      <td>109.997</td>\n",
       "    </tr>\n",
       "  </tbody>\n",
       "</table>\n",
       "</div>"
      ],
      "text/plain": [
       "                  song_id  danceability  energy  loudness  speechiness  \\\n",
       "0  2OKo7g3KfmCt3kyLvUAL0g         0.789   0.786    -4.788       0.2970   \n",
       "1  0SmQ0UWeiHKQtxUej4Rem6         0.670   0.618    -5.467       0.0377   \n",
       "2  34uOIsoy6ETS2sxOTWBRDF         0.771   0.287   -17.208       0.0720   \n",
       "3  63qZf6349d3ngku9hrzLac         0.572   0.513    -6.078       0.0358   \n",
       "4  2bgTY4UwhfBYhGT4HUYStN         0.759   0.459    -5.187       0.0948   \n",
       "\n",
       "   acousticness  instrumentalness  liveness  valence    tempo  \n",
       "0       0.59600          0.000000    0.0997    0.390  119.957  \n",
       "1       0.12800          0.000000    0.0534    0.251  147.015  \n",
       "2       0.66900          0.000000    0.1040    0.402   93.041  \n",
       "3       0.14800          0.000001    0.0597    0.528  116.397  \n",
       "4       0.00323          0.000000    0.0906    0.695  109.997  "
      ]
     },
     "execution_count": 13,
     "metadata": {},
     "output_type": "execute_result"
    }
   ],
   "source": [
    "audio_features_df.head()"
   ]
  },
  {
   "cell_type": "markdown",
   "id": "boolean-woman",
   "metadata": {},
   "source": [
    "### Artist - Dimension Table"
   ]
  },
  {
   "cell_type": "code",
   "execution_count": 14,
   "id": "independent-league",
   "metadata": {},
   "outputs": [],
   "source": [
    "# Get list of artist ID without duplicate \n",
    "artist_ids_list = played_songs_df['artist_id'].unique().tolist()"
   ]
  },
  {
   "cell_type": "code",
   "execution_count": 15,
   "id": "corporate-quest",
   "metadata": {},
   "outputs": [],
   "source": [
    "# Get multiple artist data and structuren datafram for Artist Table\n",
    "artists_dict = {\n",
    "    'artist_id': [],\n",
    "    'artist_name': [],\n",
    "    'followers': [],\n",
    "    'popularity': [],\n",
    "    'external_urls': []\n",
    "}\n",
    "\n",
    "for id in artist_ids_list:\n",
    "    artist = sp.artist(id)\n",
    "    artists_dict['artist_id'].append(artist['id'])\n",
    "    artists_dict['artist_name'].append(artist['name'])\n",
    "    artists_dict['followers'].append(artist['followers']['total'])\n",
    "    artists_dict['popularity'].append(artist['popularity'])\n",
    "    artists_dict['external_urls'].append(artist['external_urls']['spotify'])\n",
    "\n",
    "artists_df = pd.DataFrame(artists_dict)"
   ]
  },
  {
   "cell_type": "code",
   "execution_count": 16,
   "id": "considered-schedule",
   "metadata": {},
   "outputs": [],
   "source": [
    "# Check missing values\n",
    "if artists_df.isnull().values.any():\n",
    "    raise Exception(\"Null value found in artist data\")"
   ]
  },
  {
   "cell_type": "code",
   "execution_count": 17,
   "id": "controlled-associate",
   "metadata": {},
   "outputs": [
    {
     "data": {
      "text/html": [
       "<div>\n",
       "<style scoped>\n",
       "    .dataframe tbody tr th:only-of-type {\n",
       "        vertical-align: middle;\n",
       "    }\n",
       "\n",
       "    .dataframe tbody tr th {\n",
       "        vertical-align: top;\n",
       "    }\n",
       "\n",
       "    .dataframe thead th {\n",
       "        text-align: right;\n",
       "    }\n",
       "</style>\n",
       "<table border=\"1\" class=\"dataframe\">\n",
       "  <thead>\n",
       "    <tr style=\"text-align: right;\">\n",
       "      <th></th>\n",
       "      <th>artist_id</th>\n",
       "      <th>artist_name</th>\n",
       "      <th>followers</th>\n",
       "      <th>popularity</th>\n",
       "      <th>external_urls</th>\n",
       "    </tr>\n",
       "  </thead>\n",
       "  <tbody>\n",
       "    <tr>\n",
       "      <th>0</th>\n",
       "      <td>6fOMl44jA4Sp5b9PpYCkzz</td>\n",
       "      <td>NF</td>\n",
       "      <td>5577673</td>\n",
       "      <td>86</td>\n",
       "      <td>https://open.spotify.com/artist/6fOMl44jA4Sp5b...</td>\n",
       "    </tr>\n",
       "    <tr>\n",
       "      <th>1</th>\n",
       "      <td>6CGGvCBHWqQ4HXtn5aLhbh</td>\n",
       "      <td>Soobin Hoang Son</td>\n",
       "      <td>545585</td>\n",
       "      <td>57</td>\n",
       "      <td>https://open.spotify.com/artist/6CGGvCBHWqQ4HX...</td>\n",
       "    </tr>\n",
       "    <tr>\n",
       "      <th>2</th>\n",
       "      <td>1LEtM3AleYg1xabW6CRkpi</td>\n",
       "      <td>Đen</td>\n",
       "      <td>1570632</td>\n",
       "      <td>62</td>\n",
       "      <td>https://open.spotify.com/artist/1LEtM3AleYg1xa...</td>\n",
       "    </tr>\n",
       "    <tr>\n",
       "      <th>3</th>\n",
       "      <td>3Nrfpe0tUJi4K4DXYWgMUX</td>\n",
       "      <td>BTS</td>\n",
       "      <td>34401936</td>\n",
       "      <td>98</td>\n",
       "      <td>https://open.spotify.com/artist/3Nrfpe0tUJi4K4...</td>\n",
       "    </tr>\n",
       "    <tr>\n",
       "      <th>4</th>\n",
       "      <td>5dfZ5uSmzR7VQK0udbAVpf</td>\n",
       "      <td>Sơn Tùng M-TP</td>\n",
       "      <td>2368594</td>\n",
       "      <td>63</td>\n",
       "      <td>https://open.spotify.com/artist/5dfZ5uSmzR7VQK...</td>\n",
       "    </tr>\n",
       "  </tbody>\n",
       "</table>\n",
       "</div>"
      ],
      "text/plain": [
       "                artist_id       artist_name  followers  popularity  \\\n",
       "0  6fOMl44jA4Sp5b9PpYCkzz                NF    5577673          86   \n",
       "1  6CGGvCBHWqQ4HXtn5aLhbh  Soobin Hoang Son     545585          57   \n",
       "2  1LEtM3AleYg1xabW6CRkpi               Đen    1570632          62   \n",
       "3  3Nrfpe0tUJi4K4DXYWgMUX               BTS   34401936          98   \n",
       "4  5dfZ5uSmzR7VQK0udbAVpf     Sơn Tùng M-TP    2368594          63   \n",
       "\n",
       "                                       external_urls  \n",
       "0  https://open.spotify.com/artist/6fOMl44jA4Sp5b...  \n",
       "1  https://open.spotify.com/artist/6CGGvCBHWqQ4HX...  \n",
       "2  https://open.spotify.com/artist/1LEtM3AleYg1xa...  \n",
       "3  https://open.spotify.com/artist/3Nrfpe0tUJi4K4...  \n",
       "4  https://open.spotify.com/artist/5dfZ5uSmzR7VQK...  "
      ]
     },
     "execution_count": 17,
     "metadata": {},
     "output_type": "execute_result"
    }
   ],
   "source": [
    "artists_df.head()"
   ]
  },
  {
   "cell_type": "markdown",
   "id": "gorgeous-award",
   "metadata": {},
   "source": [
    "### Time - Dimension Table"
   ]
  },
  {
   "cell_type": "code",
   "execution_count": 18,
   "id": "charged-formula",
   "metadata": {},
   "outputs": [
    {
     "data": {
      "text/html": [
       "<div>\n",
       "<style scoped>\n",
       "    .dataframe tbody tr th:only-of-type {\n",
       "        vertical-align: middle;\n",
       "    }\n",
       "\n",
       "    .dataframe tbody tr th {\n",
       "        vertical-align: top;\n",
       "    }\n",
       "\n",
       "    .dataframe thead th {\n",
       "        text-align: right;\n",
       "    }\n",
       "</style>\n",
       "<table border=\"1\" class=\"dataframe\">\n",
       "  <thead>\n",
       "    <tr style=\"text-align: right;\">\n",
       "      <th></th>\n",
       "      <th>start_time</th>\n",
       "      <th>time</th>\n",
       "      <th>day</th>\n",
       "      <th>month</th>\n",
       "      <th>year</th>\n",
       "      <th>weekday</th>\n",
       "    </tr>\n",
       "  </thead>\n",
       "  <tbody>\n",
       "    <tr>\n",
       "      <th>0</th>\n",
       "      <td>2021-06-19 06:31:40</td>\n",
       "      <td>06:31:40</td>\n",
       "      <td>19</td>\n",
       "      <td>6</td>\n",
       "      <td>2021</td>\n",
       "      <td>5</td>\n",
       "    </tr>\n",
       "    <tr>\n",
       "      <th>1</th>\n",
       "      <td>2021-06-19 06:26:50</td>\n",
       "      <td>06:26:50</td>\n",
       "      <td>19</td>\n",
       "      <td>6</td>\n",
       "      <td>2021</td>\n",
       "      <td>5</td>\n",
       "    </tr>\n",
       "    <tr>\n",
       "      <th>2</th>\n",
       "      <td>2021-06-19 06:23:05</td>\n",
       "      <td>06:23:05</td>\n",
       "      <td>19</td>\n",
       "      <td>6</td>\n",
       "      <td>2021</td>\n",
       "      <td>5</td>\n",
       "    </tr>\n",
       "    <tr>\n",
       "      <th>3</th>\n",
       "      <td>2021-06-19 06:18:55</td>\n",
       "      <td>06:18:55</td>\n",
       "      <td>19</td>\n",
       "      <td>6</td>\n",
       "      <td>2021</td>\n",
       "      <td>5</td>\n",
       "    </tr>\n",
       "    <tr>\n",
       "      <th>4</th>\n",
       "      <td>2021-06-19 06:11:05</td>\n",
       "      <td>06:11:05</td>\n",
       "      <td>19</td>\n",
       "      <td>6</td>\n",
       "      <td>2021</td>\n",
       "      <td>5</td>\n",
       "    </tr>\n",
       "  </tbody>\n",
       "</table>\n",
       "</div>"
      ],
      "text/plain": [
       "           start_time      time  day  month  year  weekday\n",
       "0 2021-06-19 06:31:40  06:31:40   19      6  2021        5\n",
       "1 2021-06-19 06:26:50  06:26:50   19      6  2021        5\n",
       "2 2021-06-19 06:23:05  06:23:05   19      6  2021        5\n",
       "3 2021-06-19 06:18:55  06:18:55   19      6  2021        5\n",
       "4 2021-06-19 06:11:05  06:11:05   19      6  2021        5"
      ]
     },
     "execution_count": 18,
     "metadata": {},
     "output_type": "execute_result"
    }
   ],
   "source": [
    "# Get time data and structure dataframe for Time Table\n",
    "played_songs_df['played_at'] = pd.to_datetime(played_songs_df['played_at'])\n",
    "time_df = pd.DataFrame({\"start_time\": played_songs_df['played_at'],\n",
    "                        \"time\": played_songs_df['played_at'].astype(str).str[11:],\n",
    "                        \"day\": played_songs_df['played_at'].dt.day,\n",
    "                        \"month\": played_songs_df['played_at'].dt.month,\n",
    "                        \"year\": played_songs_df['played_at'].dt.year,\n",
    "                        \"weekday\": played_songs_df['played_at'].dt.weekday})\n",
    "\n",
    "time_df.head()"
   ]
  },
  {
   "cell_type": "markdown",
   "id": "answering-toolbox",
   "metadata": {},
   "source": [
    "## Load transformed data into database\n",
    "\n",
    "To load the data into the database,first,create a temporary table, and use `.to_sql` method to load data into it. Then, inserting data from temporary tables to base tables to avoid the table's primary key already exists."
   ]
  },
  {
   "cell_type": "code",
   "execution_count": 19,
   "id": "protective-relative",
   "metadata": {},
   "outputs": [],
   "source": [
    "# Connect to PostgresSQL database\n",
    "engine = create_engine('postgresql+psycopg2://{username}:{password}@{host}/{database}'.format(username=USER, \n",
    "                                                                                            password=PASSWORD,\n",
    "                                                                                            host=HOST,\n",
    "                                                                                            database=DATABASE))\n",
    "conn = engine.raw_connection()\n",
    "cur = conn.cursor()"
   ]
  },
  {
   "cell_type": "code",
   "execution_count": 20,
   "id": "processed-delhi",
   "metadata": {},
   "outputs": [
    {
     "name": "stdout",
     "output_type": "stream",
     "text": [
      "Wall time: 126 ms\n"
     ]
    },
    {
     "data": {
      "text/plain": [
       "<sqlalchemy.engine.result.ResultProxy at 0x1e150a5ee08>"
      ]
     },
     "execution_count": 20,
     "metadata": {},
     "output_type": "execute_result"
    }
   ],
   "source": [
    "%%time\n",
    "# Song Table\n",
    "cur.execute('''\n",
    "    CREATE TEMP TABLE IF NOT EXISTS temp_song AS \n",
    "    SELECT * FROM Song LIMIT 0;\n",
    "''')\n",
    "songs_df.to_sql(\"temp_song\", con=engine, if_exists='replace', index=False)\n",
    "\n",
    "engine.execute('''\n",
    "    INSERT INTO public.Song\n",
    "    SELECT * FROM temp_song\n",
    "    WHERE temp_song.song_id NOT IN (SELECT song_id FROM public.Song);\n",
    "''')"
   ]
  },
  {
   "cell_type": "code",
   "execution_count": 21,
   "id": "caring-conclusion",
   "metadata": {},
   "outputs": [
    {
     "name": "stdout",
     "output_type": "stream",
     "text": [
      "Wall time: 47 ms\n"
     ]
    },
    {
     "data": {
      "text/plain": [
       "<sqlalchemy.engine.result.ResultProxy at 0x1e150a7a5c8>"
      ]
     },
     "execution_count": 21,
     "metadata": {},
     "output_type": "execute_result"
    }
   ],
   "source": [
    "%%time\n",
    "# Artist Table\n",
    "cur.execute('''\n",
    "    CREATE TEMP TABLE IF NOT EXISTS temp_artist AS \n",
    "    SELECT * FROM Artist LIMIT 0;\n",
    "''')\n",
    "artists_df.to_sql(\"temp_artist\", con=engine, schema='public', if_exists='replace', index=False)\n",
    "engine.execute('''\n",
    "    INSERT INTO public.Artist\n",
    "    SELECT * FROM temp_artist\n",
    "    WHERE temp_artist.artist_id NOT IN (SELECT artist_id FROM public.Artist);\n",
    "''')"
   ]
  },
  {
   "cell_type": "code",
   "execution_count": 22,
   "id": "fundamental-hampshire",
   "metadata": {},
   "outputs": [
    {
     "name": "stdout",
     "output_type": "stream",
     "text": [
      "Wall time: 48.8 ms\n"
     ]
    },
    {
     "data": {
      "text/plain": [
       "<sqlalchemy.engine.result.ResultProxy at 0x1e150a8a048>"
      ]
     },
     "execution_count": 22,
     "metadata": {},
     "output_type": "execute_result"
    }
   ],
   "source": [
    "%%time\n",
    "# Time Table\n",
    "cur.execute('''\n",
    "    CREATE TEMP TABLE IF NOT EXISTS temp_time AS \n",
    "    SELECT * FROM Time LIMIT 0;\n",
    "''')\n",
    "time_df.to_sql(\"temp_time\", con=engine, schema='public', if_exists='replace', index=False)\n",
    "engine.execute('''\n",
    "    INSERT INTO public.Time\n",
    "    SELECT * FROM temp_time\n",
    "    WHERE temp_time.start_time NOT IN (SELECT start_time FROM public.Time);\n",
    "''')"
   ]
  },
  {
   "cell_type": "code",
   "execution_count": 23,
   "id": "immediate-threshold",
   "metadata": {},
   "outputs": [
    {
     "name": "stdout",
     "output_type": "stream",
     "text": [
      "Wall time: 49.5 ms\n"
     ]
    },
    {
     "data": {
      "text/plain": [
       "<sqlalchemy.engine.result.ResultProxy at 0x1e150a8efc8>"
      ]
     },
     "execution_count": 23,
     "metadata": {},
     "output_type": "execute_result"
    }
   ],
   "source": [
    "%%time\n",
    "# AudioFeatures Table\n",
    "cur.execute('''\n",
    "    CREATE TEMP TABLE IF NOT EXISTS temp_audio_feature AS \n",
    "    SELECT * FROM AudioFeature LIMIT 0;\n",
    "''')\n",
    "audio_features_df.to_sql(\"temp_audio_feature\", con=engine, if_exists='replace', index=False)\n",
    "engine.execute('''\n",
    "    INSERT INTO public.AudioFeature\n",
    "    SELECT * FROM temp_audio_feature\n",
    "    WHERE temp_audio_feature.song_id NOT IN (SELECT song_id FROM public.AudioFeature);\n",
    "''')"
   ]
  },
  {
   "cell_type": "code",
   "execution_count": 24,
   "id": "lesbian-accounting",
   "metadata": {},
   "outputs": [
    {
     "name": "stdout",
     "output_type": "stream",
     "text": [
      "Wall time: 43.5 ms\n"
     ]
    },
    {
     "data": {
      "text/plain": [
       "<sqlalchemy.engine.result.ResultProxy at 0x1e150a9dd48>"
      ]
     },
     "execution_count": 24,
     "metadata": {},
     "output_type": "execute_result"
    }
   ],
   "source": [
    "%%time\n",
    "# PlayedSongs Table\n",
    "cur.execute('''\n",
    "    CREATE TEMP TABLE IF NOT EXISTS temp_played_song \n",
    "    AS SELECT * FROM PlayedSong LIMIT 0;\n",
    "''')\n",
    "played_songs_df.to_sql(\"temp_played_song\", con=engine, if_exists='replace', index=False)\n",
    "\n",
    "engine.execute('''\n",
    "    INSERT INTO public.PlayedSong\n",
    "    SELECT * FROM temp_played_song\n",
    "    WHERE CAST(temp_played_song.played_song_id AS TEXT) NOT IN (SELECT played_song_id FROM public.PlayedSong);\n",
    "''')"
   ]
  },
  {
   "cell_type": "code",
   "execution_count": 25,
   "id": "adverse-hartford",
   "metadata": {},
   "outputs": [],
   "source": [
    "# Close connection\n",
    "cur.close()\n",
    "conn.close()"
   ]
  }
 ],
 "metadata": {
  "kernelspec": {
   "display_name": "Python 3.7.4 64-bit ('base': conda)",
   "language": "python",
   "name": "python37464bitbaseconda0b3c966e096b4c24babf3404206d410c"
  },
  "language_info": {
   "codemirror_mode": {
    "name": "ipython",
    "version": 3
   },
   "file_extension": ".py",
   "mimetype": "text/x-python",
   "name": "python",
   "nbconvert_exporter": "python",
   "pygments_lexer": "ipython3",
   "version": "3.7.4"
  }
 },
 "nbformat": 4,
 "nbformat_minor": 5
}